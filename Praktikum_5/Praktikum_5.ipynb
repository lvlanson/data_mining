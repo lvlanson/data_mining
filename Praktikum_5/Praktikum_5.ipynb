{
  "nbformat": 4,
  "nbformat_minor": 0,
  "metadata": {
    "colab": {
      "name": "Praktikum_5.ipynb",
      "provenance": [],
      "collapsed_sections": [],
      "authorship_tag": "ABX9TyNAmVTzI0i2myG2P4Ah+s5K",
      "include_colab_link": true
    },
    "kernelspec": {
      "name": "python3",
      "display_name": "Python 3"
    }
  },
  "cells": [
    {
      "cell_type": "markdown",
      "metadata": {
        "id": "view-in-github",
        "colab_type": "text"
      },
      "source": [
        "<a href=\"https://colab.research.google.com/github/lvlanson/data_mining/blob/main/Praktikum_5.ipynb\" target=\"_parent\"><img src=\"https://colab.research.google.com/assets/colab-badge.svg\" alt=\"Open In Colab\"/></a>"
      ]
    },
    {
      "cell_type": "code",
      "metadata": {
        "id": "10Mpb7hspluJ"
      },
      "source": [
        "# Daten in Python einpflegen\n",
        "\n",
        "col_1 = \"Kelchblattlänge \\\n",
        "kurz \\\n",
        "mittel \\\n",
        "kurz \\\n",
        "lang \\\n",
        "mittel \\\n",
        "mittel \\\n",
        "lang \\\n",
        "lang \\\n",
        "mittel \\\n",
        "kurz \\\n",
        "mittel \\\n",
        "mittel\"\n",
        "\n",
        "col_2 = \"Kelchblattbreite \\\n",
        "mittel \\\n",
        "breit \\\n",
        "mittel \\\n",
        "schmal \\\n",
        "mittel \\\n",
        "mittel \\\n",
        "mittel \\\n",
        "mittel \\\n",
        "mittel \\\n",
        "mittel \\\n",
        "mittel \\\n",
        "mittel\"\n",
        "\n",
        "col_3 = \"Blütenblattlänge \\\n",
        "kurz \\\n",
        "kurz \\\n",
        "kurz \\\n",
        "mittel \\\n",
        "mittel \\\n",
        "mittel \\\n",
        "lang \\\n",
        "lang \\\n",
        "lang \\\n",
        "kurz \\\n",
        "mittel \\\n",
        "lang\"\n",
        "\n",
        "col_4 = \"Blütenblattbreite \\\n",
        "schmal \\\n",
        "schmal \\\n",
        "schmal \\\n",
        "mittel \\\n",
        "mittel \\\n",
        "mittel \\\n",
        "breit \\\n",
        "breit \\\n",
        "breit \\\n",
        "schmal \\\n",
        "mittel \\\n",
        "breit\"\n",
        "\n",
        "col_5 = \"id \\\n",
        "id_5 \\\n",
        "id_19 \\\n",
        "id_23 \\\n",
        "id_77 \\\n",
        "id_96 \\\n",
        "id_97 \\\n",
        "id_103 \\\n",
        "id_110 \\\n",
        "id_125 \\\n",
        "id_50 \\\n",
        "id_66 \\\n",
        "id_111\"\n",
        "\n",
        "col_6 = \"label \\\n",
        "Iris-setosa \\\n",
        "Iris-setosa \\\n",
        "Iris-setosa \\\n",
        "Iris-versicolor \\\n",
        "Iris-versicolor \\\n",
        "Iris-versicolor \\\n",
        "Iris-virginica \\\n",
        "Iris-virginica \\\n",
        "Iris-virginica \\\n",
        "(Iris-setosa) \\\n",
        "(Iris-versicolor) \\\n",
        "(Iris-virginica)\"\n",
        "\n",
        "raw_data = [col_1, col_2, col_3, col_4, col_5, col_6]\n",
        "raw_data = [x.split(\" \") for x in raw_data]"
      ],
      "execution_count": 14,
      "outputs": []
    },
    {
      "cell_type": "code",
      "metadata": {
        "id": "M1IFJbNE3Kwt"
      },
      "source": [
        "# 1 a) Helferfunktion zum Zählen der Daten für Einträge\n",
        "\n",
        "def data_count(attr, row, data):\n",
        "  count = 0\n",
        "  for dat in data:\n",
        "    if dat[row] == attr:\n",
        "      count += 1\n",
        "  return count\n",
        "\n",
        "def range_count(attrs, rows, attr, row, data, equal=True):\n",
        "  count = 0\n",
        "  for dat in data:\n",
        "    found = True\n",
        "    for i, r in enumerate(rows):\n",
        "      if dat[r] != attrs[i]:\n",
        "        found = False\n",
        "        break\n",
        "    if row:\n",
        "      if found:\n",
        "        if equal and dat[row] != attr:\n",
        "          found = False\n",
        "          continue\n",
        "        elif not equal and dat[row] == attr:\n",
        "          found = False\n",
        "          continue\n",
        "    if found:\n",
        "      count += 1\n",
        "\n",
        "  return count"
      ],
      "execution_count": 159,
      "outputs": []
    },
    {
      "cell_type": "code",
      "metadata": {
        "id": "cULgSN9l4B4f"
      },
      "source": [
        "# 1 a) Data Preperation\n",
        "\n",
        "import numpy as np\n",
        "\n",
        "data = np.array(raw_data)\n",
        "data = np.delete(data, 4, 0)\n",
        "data = data.transpose()\n",
        "\n",
        "labels = data[0]\n",
        "train = data[1:-3]\n",
        "test = data[-3:]\n",
        "\n",
        "for i, t in enumerate(test):\n",
        "  test[i][4] = t[4].replace(\"(\", \"\").replace(\")\", \"\")"
      ],
      "execution_count": 150,
      "outputs": []
    },
    {
      "cell_type": "code",
      "metadata": {
        "colab": {
          "base_uri": "https://localhost:8080/"
        },
        "id": "R25hPNNb38bX",
        "outputId": "9fc50ee9-2641-48f6-9c29-56689634932c"
      },
      "source": [
        "# Attribute\n",
        "\n",
        "for i in range(len(labels)):\n",
        "  print(f\"{i:<20}\", end=\"\")\n",
        "print()\n",
        "for item in labels:\n",
        "  print(f\"{item:<20}\", end=\"\")"
      ],
      "execution_count": 84,
      "outputs": [
        {
          "output_type": "stream",
          "text": [
            "0                   1                   2                   3                   4                   \n",
            "Kelchblattlänge     Kelchblattbreite    Blütenblattlänge    Blütenblattbreite   label               "
          ],
          "name": "stdout"
        }
      ]
    },
    {
      "cell_type": "code",
      "metadata": {
        "colab": {
          "base_uri": "https://localhost:8080/"
        },
        "id": "fj7aCKEFG_w_",
        "outputId": "59574418-28f7-4746-cf50-7ed7c31e5ecb"
      },
      "source": [
        ""
      ],
      "execution_count": 123,
      "outputs": [
        {
          "output_type": "stream",
          "text": [
            "['kurz' 'mittel' 'kurz' 'schmal' 'Iris-setosa']\n",
            "['kurz' 'mittel' 'kurz' 'schmal' 'Iris-setosa']\n"
          ],
          "name": "stdout"
        },
        {
          "output_type": "execute_result",
          "data": {
            "text/plain": [
              "2"
            ]
          },
          "metadata": {
            "tags": []
          },
          "execution_count": 123
        }
      ]
    },
    {
      "cell_type": "code",
      "metadata": {
        "colab": {
          "base_uri": "https://localhost:8080/"
        },
        "id": "EFj7E9BXxd62",
        "outputId": "a830a254-48b1-4ba0-8c97-e5a70fa15d53"
      },
      "source": [
        "##### p_setosa\n",
        "\n",
        "p_setosa_label = data_count(\"Iris-setosa\", 4, train) / len(train)\n",
        "p_setosa_attr  = range_count(test[0][:3], range(3), test[0][4], 4, train) / len(train)\n",
        "p_setosa_n_attr = range_count(test[0][:3], range(3), test[0][4], 4, train, False) / len(train)\n",
        "p_setosa_only_attr = range_count(test[0][:3], range(3), None, None, train)\n",
        "\n",
        "# Wahrscheinlichkeit Setosa und Attribute\n",
        "P_s_a = p_setosa_attr/p_setosa_label\n",
        "P_s_na = p_setosa_n_attr/p_setosa_label\n",
        "\n",
        "P_is_Setosa = P_s_a*p_setosa_label/ p_setosa_only_attr\n",
        "\n",
        "print(f\"Setosa: {P_is_Setosa}\")\n",
        "\n",
        "##### p_versi\n",
        "p_versi_label = data_count(\"Iris-versicolor\", 4, train) / len(train)\n",
        "p_versi_attr = range_count(test[1][:3], range(3), test[1][4], 4, train) / len(train)\n",
        "p_versi_n_attr = range_count(test[1][:3], range(3), test[1][4], 4, train, False) / len(train)\n",
        "p_versi_only_attr = range_count(test[1][:3], range(3), None, None, train)\n",
        "\n",
        "# Wahrscheinlichkeit Versicolor und Attribute\n",
        "P_ve_a = p_versi_attr/p_versi_label\n",
        "P_ve_na = p_versi_n_attr/p_versi_label\n",
        "\n",
        "P_is_Versicolor = P_ve_a*p_versi_label/ p_versi_only_attr\n",
        "\n",
        "print(f\"Versicolor: {P_is_Versicolor}\")\n",
        "\n",
        "##### p_virg \n",
        "p_virg_label = data_count(\"Iris-virginica\", 4, train) / len(train)\n",
        "p_virg_attr = range_count(test[2][:3], range(3), test[2][4], 4, train) / len(train)\n",
        "p_virg_n_attr = range_count(test[2][:3], range(3), test[2][4], 4, train, False) / len(train)\n",
        "p_virg_only_attr = range_count(test[2][:3], range(3), None, None, train)\n",
        "\n",
        "# Wahrscheinlichkeit Virginica und Attribute\n",
        "P_vi_a = p_virg_attr/p_virg_label\n",
        "P_vi_na = p_virg_n_attr/p_virg_label\n",
        "\n",
        "P_is_Virginica = P_vi_a*p_virg_label/ p_virg_only_attr\n",
        "\n",
        "print(f\"Virginica: {P_is_Virginica}\")"
      ],
      "execution_count": 164,
      "outputs": [
        {
          "output_type": "stream",
          "text": [
            "Setosa: 0.1111111111111111\n",
            "Versicolor: 0.1111111111111111\n",
            "Virginica: 0.1111111111111111\n"
          ],
          "name": "stdout"
        }
      ]
    },
    {
      "cell_type": "code",
      "metadata": {
        "colab": {
          "base_uri": "https://localhost:8080/",
          "height": 402
        },
        "id": "4olP3WX7PALH",
        "outputId": "a0670f58-c690-4463-a9ed-1a450a2747a8"
      },
      "source": [
        "import pandas as pd\n",
        "\n",
        "df_prepare = np.vstack((train, test))\n",
        "\n",
        "df = pd.DataFrame(df_prepare, columns=labels)\n",
        "\n",
        "df"
      ],
      "execution_count": 172,
      "outputs": [
        {
          "output_type": "execute_result",
          "data": {
            "text/html": [
              "<div>\n",
              "<style scoped>\n",
              "    .dataframe tbody tr th:only-of-type {\n",
              "        vertical-align: middle;\n",
              "    }\n",
              "\n",
              "    .dataframe tbody tr th {\n",
              "        vertical-align: top;\n",
              "    }\n",
              "\n",
              "    .dataframe thead th {\n",
              "        text-align: right;\n",
              "    }\n",
              "</style>\n",
              "<table border=\"1\" class=\"dataframe\">\n",
              "  <thead>\n",
              "    <tr style=\"text-align: right;\">\n",
              "      <th></th>\n",
              "      <th>Kelchblattlänge</th>\n",
              "      <th>Kelchblattbreite</th>\n",
              "      <th>Blütenblattlänge</th>\n",
              "      <th>Blütenblattbreite</th>\n",
              "      <th>label</th>\n",
              "    </tr>\n",
              "  </thead>\n",
              "  <tbody>\n",
              "    <tr>\n",
              "      <th>0</th>\n",
              "      <td>kurz</td>\n",
              "      <td>mittel</td>\n",
              "      <td>kurz</td>\n",
              "      <td>schmal</td>\n",
              "      <td>Iris-setosa</td>\n",
              "    </tr>\n",
              "    <tr>\n",
              "      <th>1</th>\n",
              "      <td>mittel</td>\n",
              "      <td>breit</td>\n",
              "      <td>kurz</td>\n",
              "      <td>schmal</td>\n",
              "      <td>Iris-setosa</td>\n",
              "    </tr>\n",
              "    <tr>\n",
              "      <th>2</th>\n",
              "      <td>kurz</td>\n",
              "      <td>mittel</td>\n",
              "      <td>kurz</td>\n",
              "      <td>schmal</td>\n",
              "      <td>Iris-setosa</td>\n",
              "    </tr>\n",
              "    <tr>\n",
              "      <th>3</th>\n",
              "      <td>lang</td>\n",
              "      <td>schmal</td>\n",
              "      <td>mittel</td>\n",
              "      <td>mittel</td>\n",
              "      <td>Iris-versicolor</td>\n",
              "    </tr>\n",
              "    <tr>\n",
              "      <th>4</th>\n",
              "      <td>mittel</td>\n",
              "      <td>mittel</td>\n",
              "      <td>mittel</td>\n",
              "      <td>mittel</td>\n",
              "      <td>Iris-versicolor</td>\n",
              "    </tr>\n",
              "    <tr>\n",
              "      <th>5</th>\n",
              "      <td>mittel</td>\n",
              "      <td>mittel</td>\n",
              "      <td>mittel</td>\n",
              "      <td>mittel</td>\n",
              "      <td>Iris-versicolor</td>\n",
              "    </tr>\n",
              "    <tr>\n",
              "      <th>6</th>\n",
              "      <td>lang</td>\n",
              "      <td>mittel</td>\n",
              "      <td>lang</td>\n",
              "      <td>breit</td>\n",
              "      <td>Iris-virginica</td>\n",
              "    </tr>\n",
              "    <tr>\n",
              "      <th>7</th>\n",
              "      <td>lang</td>\n",
              "      <td>mittel</td>\n",
              "      <td>lang</td>\n",
              "      <td>breit</td>\n",
              "      <td>Iris-virginica</td>\n",
              "    </tr>\n",
              "    <tr>\n",
              "      <th>8</th>\n",
              "      <td>mittel</td>\n",
              "      <td>mittel</td>\n",
              "      <td>lang</td>\n",
              "      <td>breit</td>\n",
              "      <td>Iris-virginica</td>\n",
              "    </tr>\n",
              "    <tr>\n",
              "      <th>9</th>\n",
              "      <td>kurz</td>\n",
              "      <td>mittel</td>\n",
              "      <td>kurz</td>\n",
              "      <td>schmal</td>\n",
              "      <td>Iris-setosa</td>\n",
              "    </tr>\n",
              "    <tr>\n",
              "      <th>10</th>\n",
              "      <td>mittel</td>\n",
              "      <td>mittel</td>\n",
              "      <td>mittel</td>\n",
              "      <td>mittel</td>\n",
              "      <td>Iris-versicolor</td>\n",
              "    </tr>\n",
              "    <tr>\n",
              "      <th>11</th>\n",
              "      <td>mittel</td>\n",
              "      <td>mittel</td>\n",
              "      <td>lang</td>\n",
              "      <td>breit</td>\n",
              "      <td>Iris-virginica</td>\n",
              "    </tr>\n",
              "  </tbody>\n",
              "</table>\n",
              "</div>"
            ],
            "text/plain": [
              "   Kelchblattlänge Kelchblattbreite  ... Blütenblattbreite            label\n",
              "0             kurz           mittel  ...            schmal      Iris-setosa\n",
              "1           mittel            breit  ...            schmal      Iris-setosa\n",
              "2             kurz           mittel  ...            schmal      Iris-setosa\n",
              "3             lang           schmal  ...            mittel  Iris-versicolor\n",
              "4           mittel           mittel  ...            mittel  Iris-versicolor\n",
              "5           mittel           mittel  ...            mittel  Iris-versicolor\n",
              "6             lang           mittel  ...             breit   Iris-virginica\n",
              "7             lang           mittel  ...             breit   Iris-virginica\n",
              "8           mittel           mittel  ...             breit   Iris-virginica\n",
              "9             kurz           mittel  ...            schmal      Iris-setosa\n",
              "10          mittel           mittel  ...            mittel  Iris-versicolor\n",
              "11          mittel           mittel  ...             breit   Iris-virginica\n",
              "\n",
              "[12 rows x 5 columns]"
            ]
          },
          "metadata": {
            "tags": []
          },
          "execution_count": 172
        }
      ]
    },
    {
      "cell_type": "code",
      "metadata": {
        "id": "GxvIPcwpQ4cy"
      },
      "source": [
        ""
      ],
      "execution_count": 208,
      "outputs": []
    },
    {
      "cell_type": "code",
      "metadata": {
        "colab": {
          "base_uri": "https://localhost:8080/"
        },
        "id": "CSx6A4GtSBUM",
        "outputId": "d2b73505-090f-4b74-ddf9-3f1fe2e6cceb"
      },
      "source": [
        "from sklearn.preprocessing import LabelEncoder\n",
        "\n",
        "x = df.loc[:, :\"Blütenblattbreite\"].values\n",
        "y = df.loc[:, \"label\":].values\n",
        "\n",
        "shape = x.shape\n",
        "x_encoder = LabelEncoder()\n",
        "x = x_encoder.fit_transform(x.reshape(-1))\n",
        "\n",
        "x = x.reshape(shape)\n",
        "\n",
        "\n",
        "y_encoder = LabelEncoder()\n",
        "y = y_encoder.fit_transform(y)"
      ],
      "execution_count": 220,
      "outputs": [
        {
          "output_type": "stream",
          "text": [
            "/usr/local/lib/python3.6/dist-packages/sklearn/preprocessing/_label.py:251: DataConversionWarning: A column-vector y was passed when a 1d array was expected. Please change the shape of y to (n_samples, ), for example using ravel().\n",
            "  y = column_or_1d(y, warn=True)\n"
          ],
          "name": "stderr"
        }
      ]
    },
    {
      "cell_type": "code",
      "metadata": {
        "id": "H5J9gcCuTTto"
      },
      "source": [
        "from sklearn.model_selection import train_test_split\n",
        "\n",
        "x_train = x[:8]\n",
        "x_test = x[9:] \n",
        "\n",
        "y_train = y[:8]\n",
        "y_test = y[9:]"
      ],
      "execution_count": 213,
      "outputs": []
    },
    {
      "cell_type": "code",
      "metadata": {
        "colab": {
          "base_uri": "https://localhost:8080/"
        },
        "id": "n-k1SH9qTvff",
        "outputId": "a2dbb0a8-9f50-4c95-d77b-124d56ea94b9"
      },
      "source": [
        "from sklearn.naive_bayes import GaussianNB\n",
        "clf = GaussianNB()\n",
        "clf.fit(x_train, y_train)\n",
        "GaussianNB(priors=None)\n",
        "y_pred = clf.predict(x_test)\n",
        "\n",
        "y_encoder.inverse_transform(y_pred)"
      ],
      "execution_count": 221,
      "outputs": [
        {
          "output_type": "execute_result",
          "data": {
            "text/plain": [
              "array(['Iris-setosa', 'Iris-versicolor', 'Iris-virginica'], dtype=object)"
            ]
          },
          "metadata": {
            "tags": []
          },
          "execution_count": 221
        }
      ]
    },
    {
      "cell_type": "code",
      "metadata": {
        "colab": {
          "base_uri": "https://localhost:8080/"
        },
        "id": "0VTKTsSBT4Jq",
        "outputId": "3c532665-89df-4af9-9d36-19fb26a14f77"
      },
      "source": [
        "from sklearn.metrics import accuracy_score\n",
        "accuracy_score(y_true=y_test, y_pred=y_pred)\n"
      ],
      "execution_count": 218,
      "outputs": [
        {
          "output_type": "execute_result",
          "data": {
            "text/plain": [
              "1.0"
            ]
          },
          "metadata": {
            "tags": []
          },
          "execution_count": 218
        }
      ]
    }
  ]
}