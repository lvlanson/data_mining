{
  "nbformat": 4,
  "nbformat_minor": 0,
  "metadata": {
    "colab": {
      "name": "Praktikum_7_Aufgabe_2.ipynb",
      "provenance": [],
      "authorship_tag": "ABX9TyPWiOlu+oEp6+xak2cw1Ww+",
      "include_colab_link": true
    },
    "kernelspec": {
      "name": "python3",
      "display_name": "Python 3"
    }
  },
  "cells": [
    {
      "cell_type": "markdown",
      "metadata": {
        "id": "view-in-github",
        "colab_type": "text"
      },
      "source": [
        "<a href=\"https://colab.research.google.com/github/lvlanson/data_mining/blob/main/Praktikum_7_Aufgabe_2.ipynb\" target=\"_parent\"><img src=\"https://colab.research.google.com/assets/colab-badge.svg\" alt=\"Open In Colab\"/></a>"
      ]
    },
    {
      "cell_type": "markdown",
      "metadata": {
        "id": "V7lt94IXlLde"
      },
      "source": [
        "## **Beispielhaftes Datenmodell erstellen**\n",
        "\n",
        ">`y` - entspricht den aktuellen Daten <br>\n",
        ">`y_pred` - entspricht den Vorhersagen durch unser Modell <br>\n",
        "\n",
        "In `y` wird für gut eine 1 angelegt und für schlecht eine 0 angelegt.\n",
        "In `y_pred` werden unter den 1 angelegten 650 richtig als 1 angelegt und 50 als 0 angelegt. Für die 0 werden 290 als richtig angelgt und 10 als falsch angelegt. Damit das richtig funktioniert müssen in den Listen die Elemente jeweils gegenüber stehen. Für eine bessere Funktionalität werden alle Listen in Numpy Arrays umgewandelt.\n",
        "\n",
        "```\n",
        "# Beispiel\n",
        "\n",
        "y      = [1, 1, 1, 0, 0]\n",
        "y_pred = [1, 1, 0, 0, 1]   \n",
        "                ^-----^---- Falsche Predictions\n",
        "```\n"
      ]
    },
    {
      "cell_type": "code",
      "metadata": {
        "id": "BecPY8t0jypg"
      },
      "source": [
        "import numpy as np\n",
        "\n",
        "y = [1]*700 + [0]*300\n",
        "y_pred = [1]*650 + [0]*50 + [0]*290 + [1]*10\n",
        "\n",
        "y = np.array(y)\n",
        "y_pred = np.array(y_pred)"
      ],
      "execution_count": 2,
      "outputs": []
    },
    {
      "cell_type": "markdown",
      "metadata": {
        "id": "x4rGQLfgzTni"
      },
      "source": [
        "## Metriken zu binären Klassifikatoren\n",
        "\n",
        "Die Confusion Matrix von sklearn bietet uns eine Möglichkeit einfach die Attribute _True Positive_, _False Positive_, _True Negative_ und _False Negative_ zu bestimmen. Mit `confusion_matrix(y_real, y_prediction)` wird uns ein 2 dimensionales Array zurückgegeben. \n",
        "> Parameter: <br>\n",
        "> `y_true` Tatsächlichen Werte <br>\n",
        "> `y_pred` Vorhergesagte Werte\n",
        "\n",
        "Dieses zurückgegebene Array sieht wie folgt aus:\n",
        "```\n",
        "[ [true_negatives, false_positives],\n",
        "  [false_negatives, true_positves] ]\n",
        "```\n",
        "\n",
        "Mit der Funktion ravel() können wir das zweidimensionale Array in ein eindimensionales Array umwandeln und dann ganz einfach die Werte eindeutig auspacken.\n",
        "\n",
        "_True Positives_ und _True Negatives_ bedeuten, dass die Vorhersagen jeweils richtig waren. Eine positive bzw. negative Vorhersage war demnach richtig. Ein _False Positive_ heißt, dass das vorhergesagte Objekt eigentlich Negative war. Für _False Negative_ gilt dasselbe bloß umgekehrt."
      ]
    },
    {
      "cell_type": "code",
      "metadata": {
        "colab": {
          "base_uri": "https://localhost:8080/"
        },
        "id": "OCd317NDkVot",
        "outputId": "9ff46782-ef23-4c76-df59-b93aff7c0fd8"
      },
      "source": [
        "# Beispiel der Erzeugung der Werte der Confusion Matrix\n",
        "\n",
        "from sklearn.metrics import confusion_matrix\n",
        "tn, fp, fn, tp = confusion_matrix(y, y_pred).ravel()\n",
        "\n",
        "#cm_norm = confusion_matrix(y, y_pred, normalize=\"true\")\n",
        "\n",
        "print(f\"tn = {tn}, fp = {fp}, fn = {fn}, tp = {tp}\")"
      ],
      "execution_count": 3,
      "outputs": [
        {
          "output_type": "stream",
          "text": [
            "tn = 290, fp = 10, fn = 50, tp = 650\n"
          ],
          "name": "stdout"
        }
      ]
    },
    {
      "cell_type": "markdown",
      "metadata": {
        "id": "Ecn086Y0M_vv"
      },
      "source": [
        "**Aus diesen Werten lassen sich folgende Maße berechnen:**\n",
        "\n",
        ">**Revelanz** <br> \n",
        "`Relevanz = true_positives + false_negatives`\n",
        "\n",
        ">**Irrelevanz** <br>\n",
        "`Irrelevanz = false_positives + true_negatives`\n",
        "\n",
        ">**Positivität** <br>\n",
        "`Positivität = true_positives + false_positives`\n",
        "\n",
        ">**Negativität** <br>\n",
        "`Negativität = true_negatives + false_negatives`\n",
        "\n",
        ">**Korrekte Klassifikation** <br>\n",
        "`Korrekt = true_positives + true_negatives`\n",
        "\n",
        ">**Inkorrekte Klassifikation** <br>\n",
        "`Inkorrekt = false_positives + false_negatives`"
      ]
    },
    {
      "cell_type": "code",
      "metadata": {
        "colab": {
          "base_uri": "https://localhost:8080/"
        },
        "id": "ekehN7AG3d5g",
        "outputId": "b3e38c15-11aa-42d2-c6e2-ec160fd26e36"
      },
      "source": [
        "relevanz   = tp + fn\n",
        "irrelevanz = fp + tn\n",
        "positive   = tp + fp\n",
        "negative   = tn + fn\n",
        "correct    = tp + tn\n",
        "incorrect  = fp + fn\n",
        "\n",
        "print(f\"Relevanz:\\t\\t  \", relevanz)\n",
        "print(f\"Irrelevanz:\\t\\t  \", irrelevanz)\n",
        "print(f\"Positivität:\\t\\t  \", positive)\n",
        "print(f\"Negativität:\\t\\t  \", negative)\n",
        "print(f\"Korrekte Klassifikation:  \", correct)\n",
        "print(f\"Inkorrekte Klassifikation:\", incorrect)"
      ],
      "execution_count": 4,
      "outputs": [
        {
          "output_type": "stream",
          "text": [
            "Relevanz:\t\t   700\n",
            "Irrelevanz:\t\t   300\n",
            "Positivität:\t\t   660\n",
            "Negativität:\t\t   340\n",
            "Korrekte Klassifikation:   940\n",
            "Inkorrekte Klassifikation: 60\n"
          ],
          "name": "stdout"
        }
      ]
    },
    {
      "cell_type": "markdown",
      "metadata": {
        "id": "VmsRSfk-QnSD"
      },
      "source": [
        "### Recall/ Sensitivity/ TruePositiveRate \n",
        "\n",
        "- die Rate für -> Objekt wurde **korrekt** als **positiv** gegenüber **richtigen Positives** und **falschen Negatives** eingeordnet\n",
        "\n",
        "- Bibliotheksfunktion: <br> `sklearn.metrics.recall_score(y_true, y_pred)`. \n",
        "> Parameter: <br>\n",
        "> `y_true` Tatsächlichen Werte <br>\n",
        "> `y_pred` Vorhergesagte Werte\n",
        "\n",
        "- Formel:\n",
        ">\\begin{equation}\n",
        " Recall = \\frac{TruePositives}{Relevanz} = \\frac{TruePositives}{TruePositives + FalseNegatives}\n",
        "\\end{equation}"
      ]
    },
    {
      "cell_type": "code",
      "metadata": {
        "colab": {
          "base_uri": "https://localhost:8080/"
        },
        "id": "wLlzEO_LUL6U",
        "outputId": "5e0ddaf3-7b74-4009-a15b-6569fb135f14"
      },
      "source": [
        "from sklearn.metrics import recall_score\n",
        "\n",
        "# Recall berechnen\n",
        "\n",
        "recall = recall_score(y, y_pred)\n",
        "\n",
        "print(\"Recall Score:\", recall)"
      ],
      "execution_count": 5,
      "outputs": [
        {
          "output_type": "stream",
          "text": [
            "Recall Score: 0.9285714285714286\n"
          ],
          "name": "stdout"
        }
      ]
    },
    {
      "cell_type": "markdown",
      "metadata": {
        "id": "_5TWEpXpWyJP"
      },
      "source": [
        "### False Negative Rate\n",
        "\n",
        "- die Rate für -> Objekt wurde **falsch** als **negative** gegenüber **richtigen Positives** und **falschen Negatives** eingeordnet\n",
        "\n",
        "- Formel:\n",
        ">\\begin{equation}\n",
        " FalseNegativeRate = \\frac{FalseNegatives}{Relevanz} = \\frac{FalseNegatives}{TruePositives + FalseNegatives} = 1 - Recall\n",
        "\\end{equation}"
      ]
    },
    {
      "cell_type": "code",
      "metadata": {
        "colab": {
          "base_uri": "https://localhost:8080/"
        },
        "id": "58i_DhbxXAS6",
        "outputId": "ec47c0c1-e20f-4969-db3f-4e3c3468150b"
      },
      "source": [
        "# False Negative Rate fn_rate berechnen\n",
        "\n",
        "fn_rate = fn/relevanz\n",
        "\n",
        "print(\"False Negative Rate: \", fn_rate)\n",
        "print(\"False Negative Rate: \", 1-recall)"
      ],
      "execution_count": 6,
      "outputs": [
        {
          "output_type": "stream",
          "text": [
            "False Negative Rate:  0.07142857142857142\n",
            "False Negative Rate:  0.0714285714285714\n"
          ],
          "name": "stdout"
        }
      ]
    },
    {
      "cell_type": "markdown",
      "metadata": {
        "id": "YRpcipLTVm6D"
      },
      "source": [
        "### Spezifität / TrueNegativeRate\n",
        "- die Rate für -> Objekt wurde **richtig** als **negative** gegenüber **falschen Positives** und **richtigen Negatives** eingeordnet\n",
        "- Formel:\n",
        ">\\begin{equation}\n",
        " FalsePositiveRate = \\frac{TrueNegatives}{Irrelevanz} = \\frac{TrueNegatives}{FalsePositives + TrueNegatives}\n",
        "\\end{equation}"
      ]
    },
    {
      "cell_type": "code",
      "metadata": {
        "colab": {
          "base_uri": "https://localhost:8080/"
        },
        "id": "c_8IcLB6idx8",
        "outputId": "176dc6a8-c7f4-4c98-96cc-12bf2b72db20"
      },
      "source": [
        "# Spezifität spec berechnen\n",
        "\n",
        "spec = tn/irrelevanz\n",
        "\n",
        "print(spec)"
      ],
      "execution_count": 12,
      "outputs": [
        {
          "output_type": "stream",
          "text": [
            "0.9666666666666667\n"
          ],
          "name": "stdout"
        }
      ]
    },
    {
      "cell_type": "markdown",
      "metadata": {
        "id": "dVtQfNeiU_dZ"
      },
      "source": [
        "### False Positive Rate\n",
        "\n",
        "- die Rate für -> Objet wurde **falsch** als **positiv** eingeordnet\n",
        "- Formel:\n",
        ">\\begin{equation}\n",
        " FalsePositiveRate = \\frac{TrueNegatives}{Irrelevanz} = \\frac{FalsePositives}{FalsePositives + TrueNegatives}\n",
        "\\end{equation}"
      ]
    },
    {
      "cell_type": "code",
      "metadata": {
        "colab": {
          "base_uri": "https://localhost:8080/"
        },
        "id": "mzqxakUGV6ra",
        "outputId": "8e288569-db03-4dc4-fa43-539eb0210bf5"
      },
      "source": [
        "# False Positive Rate fp_rate berechnen\n",
        "\n",
        "fp_rate = tn/irrelevanz\n",
        "\n",
        "print(\"False Positive Rate: \", fp_rate)"
      ],
      "execution_count": 13,
      "outputs": [
        {
          "output_type": "stream",
          "text": [
            "False Positive Rate:  0.9666666666666667\n"
          ],
          "name": "stdout"
        }
      ]
    },
    {
      "cell_type": "markdown",
      "metadata": {
        "id": "4b1acvnhjJhM"
      },
      "source": [
        "### Precission / Positive Prediction\n",
        "\n",
        "- die Rate für -> Objekt wurde **korrekt** als **positiv** eingeordnet\n",
        "\n",
        "- Bibliotheksfunktion: <br> `sklearn.metrics.precision_score(y_true, y_pred)`. \n",
        "> Parameter: <br>\n",
        "> `y_true` Tatsächlichen Werte <br>\n",
        "> `y_pred` Vorhergesagte Werte\n",
        "- Formel:\n",
        ">\\begin{equation}\n",
        " Precission = \\frac{TruePositives}{Positivität} = \\frac{TruePositives}{TruePositives + FalsePositives}\n",
        "\\end{equation}\n"
      ]
    },
    {
      "cell_type": "code",
      "metadata": {
        "colab": {
          "base_uri": "https://localhost:8080/"
        },
        "id": "Jh__EEJKjTlP",
        "outputId": "2553aaba-0fa9-48c5-c945-1d0bef974346"
      },
      "source": [
        "from sklearn.metrics import precision_score\n",
        "\n",
        "# Precision berechnen\n",
        "\n",
        "precision = tp/(tp+fp)\n",
        "\n",
        "print(\"Precision:\", precision)"
      ],
      "execution_count": 14,
      "outputs": [
        {
          "output_type": "stream",
          "text": [
            "Precision:  0.9848484848484849\n"
          ],
          "name": "stdout"
        }
      ]
    },
    {
      "cell_type": "markdown",
      "metadata": {
        "id": "x56HUckLlTmF"
      },
      "source": [
        "### Negative Prediction\n",
        "\n",
        "- die Rate für -> Objekt wurde **korrekt** als **positiv** eingeordnet\n",
        "- Formel:\n",
        ">\\begin{equation}\n",
        " NegativePrediction= \\frac{TrueNegatives}{Negativität} = \\frac{TrueNegatives}{TrueNegatives + FalseNegatives}\n",
        "\\end{equation}"
      ]
    },
    {
      "cell_type": "code",
      "metadata": {
        "colab": {
          "base_uri": "https://localhost:8080/"
        },
        "id": "W4R7kGazl1Nv",
        "outputId": "3536fecf-5668-4a9f-9a10-53af7c252f83"
      },
      "source": [
        "# Negative Prediction neg_pred berechnen\n",
        "\n",
        "neg_pred = tn/(tn+fn)\n",
        "\n",
        "print(\"Negative Prediction:\", neg_pred)"
      ],
      "execution_count": 15,
      "outputs": [
        {
          "output_type": "stream",
          "text": [
            "Negative Prediction: 0.8529411764705882\n"
          ],
          "name": "stdout"
        }
      ]
    },
    {
      "cell_type": "markdown",
      "metadata": {
        "id": "_Px37NVmmmaW"
      },
      "source": [
        "## Korrekt- und Falschklassifikationsrate\n",
        "\n",
        "### Accuracy/ Korrektheitsrate\n",
        "- Anteil der **korrekt klassifizierten** Objekte\n",
        "- Bibliotheksfunktion: <br> `sklearn.metrics.accuracy_score(y_true, y_pred)`. \n",
        "> Parameter: <br>\n",
        "> `y_true` Tatsächlichen Werte <br>\n",
        "> `y_pred` Vorhergesagte Werte\n",
        ">\\begin{equation}\n",
        " Accuracy = \\frac{KorrekteKlassifikation}{|DatenMenge(y)|}\n",
        "\\end{equation}\n",
        "\n",
        "\n",
        "### Inkorrektheitsrate\n",
        "- Anteil der **nicht korrekt klassifizierten** Objekte\n",
        ">\\begin{equation}\n",
        " Inkorrektheitsrate = \\frac{InkorrekteKlassifikation}{|DatenMenge(y)|}\n",
        " \\end{equation}\n",
        "\n",
        "\n",
        " ### Negative Falschklassifikationsrate\n",
        " - Wie oft ist wurde **positives Objekt** als **negativ vorhergesagt**\n",
        " >\\begin{equation}\n",
        "  Negative Falschklassifikationsrate= \\frac{FalseNegatives}{Negativität}= \\frac{FalseNegatives}{TrueNegatives + FalseNegatives}\n",
        " \\end{equation}\n",
        "\n",
        "\n",
        " ### Positive Falschklassifikationsrate\n",
        " - Wie oft ist wurde **negatives Objekt** als **positiv vorhergesagt**\n",
        " >\\begin{equation}\n",
        "  Negative Falschklassifikationsrate= \\frac{FalsePositives}{Positivität}= \\frac{FalsePositives}{TruePositives + FalsePositives}\n",
        " \\end{equation}\n"
      ]
    },
    {
      "cell_type": "code",
      "metadata": {
        "colab": {
          "base_uri": "https://localhost:8080/"
        },
        "id": "VRa64v7op3tG",
        "outputId": "0e5d9238-fc29-49aa-ec1e-3a42123b9f53"
      },
      "source": [
        "from sklearn.metrics import accuracy_score\n",
        "\n",
        "accuracy = accuracy_score(y, y_pred)\n",
        "incorrect_rate = incorrect/len(y)\n",
        "neg_false_rate = fn/negative\n",
        "pos_false_rate = fp/positive\n",
        "\n",
        "print(\"accuracy:\", accuracy)\n",
        "print(\"Inkorrektheitsrate:\", incorrect_rate)\n",
        "print(\"Negative Falschklassifikationsrate:\", neg_false_rate)\n",
        "print(\"Positive Falschklassifikationsrate:\", pos_false_rate)"
      ],
      "execution_count": 17,
      "outputs": [
        {
          "output_type": "stream",
          "text": [
            "accuracy: 0.94\n",
            "Inkorrektheitsrate: 0.06\n",
            "Negative Falschklassifikationsrate: 0.14705882352941177\n",
            "Positive Falschklassifikationsrate: 0.015151515151515152\n"
          ],
          "name": "stdout"
        }
      ]
    },
    {
      "cell_type": "markdown",
      "metadata": {
        "id": "Ogf1jYcUq-Qm"
      },
      "source": [
        "## ROC Diagramme/ROC Curve\n",
        "\n",
        "Das ROC Diagramm gibt Auskunft über das Verhältnis von True Positive Rate und False Positive Rate. Wenn sich der Graph des Diagramms diagonal durch das Diagramm zieht, deutet das auf eine zufällige Klassifikation hin. Finden wir eine Kurve, die sich **oberhalb dieser Diagonale** befindet, deutet es auf eine bessere **True Positive Rate** hin. Befindet sich der Graph **unter der Diagonale**, haben wir eine **höhere False Negative Rate**.\n",
        "\n",
        ">![ROC.png](data:image/png;base64,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) <br>\n",
        "Bildquelle: [Linktext](https://jtcvs.org/article/S0022-5223(18)32875-7/fulltext)\n",
        "\n",
        "\n",
        "Um mit der Bibliothek `sklearn.metrics.roc_curve(y, scores)` das Diagramm erstellen zu können, werden zunächst die Predictions benötigt, die Classifier liefert. Uns wird dann die False Positive Rate und die True Positive Rate als Arrays zurückgegeben, worüber wir das ROC Diagramm plotten können.\n",
        "\n",
        ">Eingabeparameter: <br>\n",
        ">`y - Unsere originalen Eingabedaten` <br>\n",
        " `scores - Unsere Predictions`\n",
        "\n",
        ">Return <br>\n",
        ">`False Positive Rate, True Positive Rate, Threshholds`\n"
      ]
    },
    {
      "cell_type": "code",
      "metadata": {
        "colab": {
          "base_uri": "https://localhost:8080/",
          "height": 265
        },
        "id": "LHwacVlEtcog",
        "outputId": "01924b5d-3b5d-475d-90c8-d727395a67c4"
      },
      "source": [
        "from sklearn.metrics import roc_curve\n",
        "import matplotlib.pyplot as plt\n",
        "\n",
        "# Confusionmatrix erzeugen\n",
        "cm = confusion_matrix(y, y_pred).ravel()\n",
        "\n",
        "# ROC Curve Parameter erzeugen\n",
        "fpr, tpr, thr = roc_curve(y, y_pred)\n",
        "\n",
        "_ = plt.plot(fpr, tpr)"
      ],
      "execution_count": 27,
      "outputs": [
        {
          "output_type": "display_data",
          "data": {
            "image/png": "[encoded data removed]",
            "text/plain": [
              "<Figure size 432x288 with 1 Axes>"
            ]
          },
          "metadata": {
            "tags": [],
            "needs_background": "light"
          }
        }
      ]
    },
    {
      "cell_type": "code",
      "metadata": {
        "colab": {
          "base_uri": "https://localhost:8080/",
          "height": 229
        },
        "id": "aybVaisN8aEH",
        "outputId": "9e0e9902-feb0-46da-afff-817dd3b0a221"
      },
      "source": [
        "from sklearn.metrics import precision_recall_fscore_support\n",
        "\n",
        "precision_recall_fscore_support(y, y_pred, average=\"binary\")\n",
        "\n",
        "plt.figure(figsize=(12, 9))\n",
        "sn.set(font_scale=1.5)\n",
        "\n",
        "_ = sn.heatmap(cm_norm, annot=True, fmt=\"g\", cmap=\"Blues\", xticklabels=[\"Positive\", \"Negative\"], yticklabels=[\"True\", \"False\"])"
      ],
      "execution_count": 8,
      "outputs": [
        {
          "output_type": "error",
          "ename": "NameError",
          "evalue": "ignored",
          "traceback": [
            "\u001b[0;31m---------------------------------------------------------------------------\u001b[0m",
            "\u001b[0;31mNameError\u001b[0m                                 Traceback (most recent call last)",
            "\u001b[0;32m<ipython-input-8-fae51681d4e9>\u001b[0m in \u001b[0;36m<module>\u001b[0;34m()\u001b[0m\n\u001b[1;32m      3\u001b[0m \u001b[0mprecision_recall_fscore_support\u001b[0m\u001b[0;34m(\u001b[0m\u001b[0my\u001b[0m\u001b[0;34m,\u001b[0m \u001b[0my_pred\u001b[0m\u001b[0;34m,\u001b[0m \u001b[0maverage\u001b[0m\u001b[0;34m=\u001b[0m\u001b[0;34m\"binary\"\u001b[0m\u001b[0;34m)\u001b[0m\u001b[0;34m\u001b[0m\u001b[0;34m\u001b[0m\u001b[0m\n\u001b[1;32m      4\u001b[0m \u001b[0;34m\u001b[0m\u001b[0m\n\u001b[0;32m----> 5\u001b[0;31m \u001b[0mplt\u001b[0m\u001b[0;34m.\u001b[0m\u001b[0mfigure\u001b[0m\u001b[0;34m(\u001b[0m\u001b[0mfigsize\u001b[0m\u001b[0;34m=\u001b[0m\u001b[0;34m(\u001b[0m\u001b[0;36m12\u001b[0m\u001b[0;34m,\u001b[0m \u001b[0;36m9\u001b[0m\u001b[0;34m)\u001b[0m\u001b[0;34m)\u001b[0m\u001b[0;34m\u001b[0m\u001b[0;34m\u001b[0m\u001b[0m\n\u001b[0m\u001b[1;32m      6\u001b[0m \u001b[0msn\u001b[0m\u001b[0;34m.\u001b[0m\u001b[0mset\u001b[0m\u001b[0;34m(\u001b[0m\u001b[0mfont_scale\u001b[0m\u001b[0;34m=\u001b[0m\u001b[0;36m1.5\u001b[0m\u001b[0;34m)\u001b[0m\u001b[0;34m\u001b[0m\u001b[0;34m\u001b[0m\u001b[0m\n\u001b[1;32m      7\u001b[0m \u001b[0;34m\u001b[0m\u001b[0m\n",
            "\u001b[0;31mNameError\u001b[0m: name 'plt' is not defined"
          ]
        }
      ]
    }
  ]
}