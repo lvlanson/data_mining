{
  "nbformat": 4,
  "nbformat_minor": 0,
  "metadata": {
    "colab": {
      "name": "Praktikum_6_Aufgabe_2.ipynb",
      "provenance": [],
      "collapsed_sections": []
    },
    "kernelspec": {
      "name": "python3",
      "display_name": "Python 3"
    }
  },
  "cells": [
    {
      "cell_type": "markdown",
      "metadata": {
        "id": "m_C1HD5R2Wpz"
      },
      "source": [
        "# **Vorgehen**\n",
        "\n",
        "In den meisten der Codeblöcke sind Stellen freigelassen worden. Diese müssen mit Eingaben aufgefüllt werden. Diese Stellen haben auch davor ein Kommentar mit drei Rauten.\n",
        "\n",
        "```\n",
        "### Vervollständige den Funktionsaufruf ###\n",
        "summe = add()\n",
        "\n",
        "```\n",
        "\n",
        "Lösung:\n",
        "```\n",
        "### Vervollständige den Funktionsaufruf ###\n",
        "summe = add(1,2)\n",
        "```\n",
        "\n",
        "## Code Ausführen\n",
        "Jeder Codeblock muss dann mit dem Playbutton abgespielt werden (Oben Links im Codeblock). Wenn der Codeblock ausgeführt wurde, sind dann die darin enthaltenen Variablen global verfügbar. Die Codeblöcke bauen aufeinander auf."
      ]
    },
    {
      "cell_type": "markdown",
      "metadata": {
        "id": "JN-3VE5i49TJ"
      },
      "source": [
        "# **Praktikum 6 Aufgabe 2**\n",
        "Eine Klassifikation hat zu folgendem Ergebnis geführt:\n",
        ">- Von den 1000 gegebenen Beispielen gehören 300 Kunden zur Klasse schlecht, 700 zur Klasse\n",
        "gut.\n",
        "- Unser Verfahren hat von den **300 schlechten** Kunden **290 korrekt** klassifiziert \n",
        "- Von den **700**\n",
        "guten Kunden wurden **650 korrekt** erkannt.\n"
      ]
    },
    {
      "cell_type": "markdown",
      "metadata": {
        "id": "V7lt94IXlLde"
      },
      "source": [
        "## Beispielhaftes Datenmodell erstellen\n",
        "\n",
        ">`y` - entspricht den aktuellen Daten <br>\n",
        ">`y_pred` - entspricht den Vorhersagen durch unser Modell <br>\n",
        "\n",
        "In `y` wird für gut eine 1 angelegt und für schlecht eine 0 angelegt.\n",
        "In `y_pred` werden unter den 1 angelegten 650 richtig als 1 angelegt und 50 als 0 angelegt. Für die 0 werden 290 als richtig angelgt und 10 als falsch angelegt. Damit das richtig funktioniert müssen in den Listen die Elemente jeweils gegenüber stehen. Für eine bessere Funktionalität werden alle Listen in Numpy Arrays umgewandelt.\n",
        "\n",
        "```\n",
        "# Beispiel\n",
        "\n",
        "y      = [1, 1, 1, 0, 0]\n",
        "y_pred = [1, 1, 0, 0, 1]   \n",
        "                ^-----^---- Falsche Predictions\n",
        "```\n"
      ]
    },
    {
      "cell_type": "code",
      "metadata": {
        "id": "BecPY8t0jypg"
      },
      "source": [
        "# Vorbereitung\n",
        "\n",
        "import numpy as np\n",
        "\n",
        "y = [1]*700 + [0]*300\n",
        "y_pred = [1]*650 + [0]*50 + [0]*290 + [1]*10\n",
        "\n",
        "y = np.array(y)\n",
        "y_pred = np.array(y_pred)"
      ],
      "execution_count": null,
      "outputs": []
    },
    {
      "cell_type": "markdown",
      "metadata": {
        "id": "x4rGQLfgzTni"
      },
      "source": [
        "## Metriken zu binären Klassifikatoren\n",
        "\n",
        "Die Confusion Matrix von sklearn bietet uns eine Möglichkeit einfach die Attribute _True Positive_, _False Positive_, _True Negative_ und _False Negative_ zu bestimmen. Mit `confusion_matrix(y_real, y_prediction)` wird uns ein 2 dimensionales Array zurückgegeben. \n",
        "> Parameter: <br>\n",
        "> `y_true` Tatsächlichen Werte <br>\n",
        "> `y_pred` Vorhergesagte Werte\n",
        "\n",
        "Dieses zurückgegebene Array sieht wie folgt aus:\n",
        "```\n",
        "[ [true_negatives, false_positives],\n",
        "  [false_negatives, true_positves] ]\n",
        "```\n",
        "\n",
        "Mit der Methode `ravel()` können wir das zweidimensionale Array in ein eindimensionales Array umwandeln und dann ganz einfach die Werte eindeutig auspacken.\n",
        "\n",
        "_True Positives_ und _True Negatives_ bedeuten, dass die Vorhersagen jeweils richtig waren. Eine positive bzw. negative Vorhersage war demnach richtig. Ein _False Positive_ heißt, dass das vorhergesagte Objekt eigentlich Negative war. Für _False Negative_ gilt dasselbe bloß umgekehrt."
      ]
    },
    {
      "cell_type": "code",
      "metadata": {
        "id": "OCd317NDkVot"
      },
      "source": [
        "# Beispiel der Erzeugung der Werte der Confusion Matrix\n",
        "\n",
        "from sklearn.metrics import confusion_matrix\n",
        "\n",
        "### Übergeben Sie der Methode confusion_matrix() die richtigen Parameter ###\n",
        "cm = confusion_matrix()\n",
        "tn, fp, fn, tp = cm.ravel()\n",
        "\n",
        "#cm_norm = confusion_matrix(y, y_pred, normalize=\"true\")\n",
        "\n",
        "print(f\"tn = {tn}, fp = {fp}, fn = {fn}, tp = {tp}\")"
      ],
      "execution_count": null,
      "outputs": []
    },
    {
      "cell_type": "markdown",
      "metadata": {
        "id": "Ecn086Y0M_vv"
      },
      "source": [
        "**Aus diesen Werten lassen sich folgende Maße berechnen:**\n",
        "\n",
        ">`Relevanz = true_positives + false_negatives`\n",
        "\n",
        ">`Irrelevanz = false_positives + true_negatives`\n",
        "\n",
        ">`Positivität = true_positives + false_positives`\n",
        "\n",
        ">`Negativität = true_negatives + false_negatives`\n",
        "\n",
        ">`Korrekt = true_positives + true_negatives`\n",
        "\n",
        ">`Inkorrekt = false_positives + false_negatives`"
      ]
    },
    {
      "cell_type": "code",
      "metadata": {
        "id": "ekehN7AG3d5g"
      },
      "source": [
        "### Berechnen Sie die angegebenen Daten. ### \n",
        "### Verwenden Sie dazu Ihre berechneten tp, fp, tn, fn ###\n",
        "\n",
        "relevanz   = \n",
        "irrelevanz = \n",
        "positive   = \n",
        "negative   = \n",
        "correct    = \n",
        "incorrect  = \n",
        "\n",
        "print(f\"Relevanz:\\t\\t  \", relevanz)\n",
        "print(f\"Irrelevanz:\\t\\t  \", irrelevanz)\n",
        "print(f\"Positivität:\\t\\t  \", positive)\n",
        "print(f\"Negativität:\\t\\t  \", negative)\n",
        "print(f\"Korrekte Klassifikation:  \", correct)\n",
        "print(f\"Inkorrekte Klassifikation:\", incorrect)\n",
        "\n",
        "\"\"\"\n",
        "Richtige Ergebnisse:\n",
        "\n",
        "Relevanz:\t\t               700\n",
        "Irrelevanz:\t\t             300\n",
        "Positivität:\t\t           660\n",
        "Negativität:\t\t           340\n",
        "Korrekte Klassifikation:   940\n",
        "Inkorrekte Klassifikation: 60\n",
        "\"\"\""
      ],
      "execution_count": null,
      "outputs": []
    },
    {
      "cell_type": "markdown",
      "metadata": {
        "id": "VmsRSfk-QnSD"
      },
      "source": [
        "### Recall/ Sensitivity/ TruePositiveRate \n",
        "\n",
        "- die Rate für -> Objekt wurde **korrekt** als **positiv** gegenüber **richtigen Positives** und **falschen Negatives** eingeordnet\n",
        "\n",
        "- Bibliotheksfunktion: <br> `sklearn.metrics.recall_score(y_true, y_pred)`. \n",
        "> Parameter: <br>\n",
        "> `y_true` Tatsächlichen Werte <br>\n",
        "> `y_pred` Vorhergesagte Werte\n",
        "\n",
        "- Formel:\n",
        ">\\begin{equation}\n",
        " Recall = \\frac{TruePositives}{Relevanz} = \\frac{TruePositives}{TruePositives + FalseNegatives}\n",
        "\\end{equation}"
      ]
    },
    {
      "cell_type": "code",
      "metadata": {
        "id": "wLlzEO_LUL6U"
      },
      "source": [
        "from sklearn.metrics import recall_score\n",
        "\n",
        "# Recall berechnen\n",
        "\n",
        "### Übergeben Sie der Funktion recall_score() die richtigen Parameter ###\n",
        "recall = recall_score()\n",
        "\n",
        "print(\"Recall Score:\", recall)"
      ],
      "execution_count": null,
      "outputs": []
    },
    {
      "cell_type": "markdown",
      "metadata": {
        "id": "_5TWEpXpWyJP"
      },
      "source": [
        "### False Negative Rate\n",
        "\n",
        "- die Rate für -> Objekt wurde **falsch** als **negative** gegenüber **richtigen Positives** und **falschen Negatives** eingeordnet\n",
        "\n",
        "- Formel:\n",
        ">\\begin{equation}\n",
        " FalseNegativeRate = \\frac{FalseNegatives}{Relevanz} = \\frac{FalseNegatives}{TruePositives + FalseNegatives} = 1 - Recall\n",
        "\\end{equation}"
      ]
    },
    {
      "cell_type": "code",
      "metadata": {
        "id": "58i_DhbxXAS6"
      },
      "source": [
        "# False Negative Rate fn_rate berechnen\n",
        "\n",
        "### Berechnen Sie fn_rate anhand der Beschreibung ###\n",
        "fn_rate = \n",
        "\n",
        "print(\"False Negative Rate: \", fn_rate)\n",
        "print(\"False Negative Rate: \", 1-recall)"
      ],
      "execution_count": null,
      "outputs": []
    },
    {
      "cell_type": "markdown",
      "metadata": {
        "id": "YRpcipLTVm6D"
      },
      "source": [
        "### Spezifität / TrueNegativeRate\n",
        "- die Rate für -> Objekt wurde **richtig** als **negative** gegenüber **falschen Positives** und **richtigen Negatives** eingeordnet\n",
        "- Formel:\n",
        ">\\begin{equation}\n",
        " FalsePositiveRate = \\frac{TrueNegatives}{Irrelevanz} = \\frac{TrueNegatives}{FalsePositives + TrueNegatives}\n",
        "\\end{equation}"
      ]
    },
    {
      "cell_type": "code",
      "metadata": {
        "id": "c_8IcLB6idx8"
      },
      "source": [
        "# Spezifität spec berechnen\n",
        "\n",
        "### Berechnen Sie spec anhand der Beschreibung ###\n",
        "spec =\n",
        "\n",
        "print(spec)"
      ],
      "execution_count": null,
      "outputs": []
    },
    {
      "cell_type": "markdown",
      "metadata": {
        "id": "dVtQfNeiU_dZ"
      },
      "source": [
        "### False Positive Rate\n",
        "\n",
        "- die Rate für -> Objet wurde **falsch** als **positiv** eingeordnet\n",
        "- Formel:\n",
        ">\\begin{equation}\n",
        " FalsePositiveRate = \\frac{TrueNegatives}{Irrelevanz} = \\frac{FalsePositives}{FalsePositives + TrueNegatives}\n",
        "\\end{equation}"
      ]
    },
    {
      "cell_type": "code",
      "metadata": {
        "id": "mzqxakUGV6ra"
      },
      "source": [
        "# False Positive Rate fp_rate berechnen\n",
        "\n",
        "### Berechnen Sie fp_rate anhand der Beschreibung ###\n",
        "fp_rate = \n",
        "\n",
        "print(\"False Positive Rate: \", fp_rate)"
      ],
      "execution_count": null,
      "outputs": []
    },
    {
      "cell_type": "markdown",
      "metadata": {
        "id": "4b1acvnhjJhM"
      },
      "source": [
        "### Precission / Positive Prediction\n",
        "\n",
        "- die Rate für -> Objekt wurde **korrekt** als **positiv** eingeordnet\n",
        "\n",
        "- Bibliotheksfunktion: <br> `sklearn.metrics.precision_score(y_true, y_pred)`. \n",
        "> Parameter: <br>\n",
        "> `y_true` Tatsächlichen Werte <br>\n",
        "> `y_pred` Vorhergesagte Werte\n",
        "- Formel:\n",
        ">\\begin{equation}\n",
        " Precission = \\frac{TruePositives}{Positivität} = \\frac{TruePositives}{TruePositives + FalsePositives}\n",
        "\\end{equation}\n"
      ]
    },
    {
      "cell_type": "code",
      "metadata": {
        "id": "Jh__EEJKjTlP"
      },
      "source": [
        "from sklearn.metrics import precision_score\n",
        "\n",
        "# Precision berechnen\n",
        "\n",
        "### Berechnen Sie precision anhand der Beschreibung ###\n",
        "precision = \n",
        "\n",
        "print(\"Precision:\", precision)"
      ],
      "execution_count": null,
      "outputs": []
    },
    {
      "cell_type": "markdown",
      "metadata": {
        "id": "x56HUckLlTmF"
      },
      "source": [
        "### Negative Prediction\n",
        "\n",
        "- die Rate für -> Objekt wurde **korrekt** als **positiv** eingeordnet\n",
        "- Formel:\n",
        ">\\begin{equation}\n",
        " NegativePrediction= \\frac{TrueNegatives}{Negativität} = \\frac{TrueNegatives}{TrueNegatives + FalseNegatives}\n",
        "\\end{equation}"
      ]
    },
    {
      "cell_type": "code",
      "metadata": {
        "id": "W4R7kGazl1Nv"
      },
      "source": [
        "# Negative Prediction neg_pred berechnen\n",
        "\n",
        "### Berechnen Sie neg_pred anhand der Beschreibung ###\n",
        "neg_pred = \n",
        "\n",
        "print(\"Negative Prediction:\", neg_pred)"
      ],
      "execution_count": null,
      "outputs": []
    },
    {
      "cell_type": "markdown",
      "metadata": {
        "id": "_Px37NVmmmaW"
      },
      "source": [
        "## Korrekt- und Falschklassifikationsrate\n",
        "\n",
        "### Accuracy/ Korrektheitsrate\n",
        "- Anteil der **korrekt klassifizierten** Objekte\n",
        "- Bibliotheksfunktion: <br> `sklearn.metrics.accuracy_score(y_true, y_pred)`. \n",
        "> Parameter: <br>\n",
        "> `y_true` Tatsächlichen Werte <br>\n",
        "> `y_pred` Vorhergesagte Werte\n",
        ">\\begin{equation}\n",
        " Accuracy = \\frac{KorrekteKlassifikation}{|DatenMenge(y)|}\n",
        "\\end{equation}\n",
        "\n",
        "\n",
        "### Inkorrektheitsrate\n",
        "- Anteil der **nicht korrekt klassifizierten** Objekte\n",
        ">\\begin{equation}\n",
        " Inkorrektheitsrate = \\frac{InkorrekteKlassifikation}{|DatenMenge(y)|}\n",
        " \\end{equation}\n",
        "\n",
        "\n",
        " ### Negative Falschklassifikationsrate\n",
        " - Wie oft ist wurde **positives Objekt** als **negativ vorhergesagt**\n",
        " >\\begin{equation}\n",
        "  Negative Falschklassifikationsrate= \\frac{FalseNegatives}{Negativität}= \\frac{FalseNegatives}{TrueNegatives + FalseNegatives}\n",
        " \\end{equation}\n",
        "\n",
        "\n",
        " ### Positive Falschklassifikationsrate\n",
        " - Wie oft ist wurde **negatives Objekt** als **positiv vorhergesagt**\n",
        " >\\begin{equation}\n",
        "  Negative Falschklassifikationsrate= \\frac{FalsePositives}{Positivität}= \\frac{FalsePositives}{TruePositives + FalsePositives}\n",
        " \\end{equation}\n"
      ]
    },
    {
      "cell_type": "code",
      "metadata": {
        "id": "VRa64v7op3tG"
      },
      "source": [
        "from sklearn.metrics import accuracy_score\n",
        "\n",
        "### Übergeben Sie accuracy_score die richtigen Parameter ###\n",
        "accuracy = accuracy_score()\n",
        "\n",
        "### Berechnen Sie incorrect_rate anhand der Beschreibung ###\n",
        "incorrect_rate = \n",
        "\n",
        "### Berechnen Sie neg_false_rate anhand der Beschreibung ###\n",
        "neg_false_rate = \n",
        "\n",
        "### Berechnen Sie pos_false_rate anhand der Beschreibung ###\n",
        "pos_false_rate = \n",
        "\n",
        "print(\"accuracy:\", accuracy)\n",
        "print(\"Inkorrektheitsrate:\", incorrect_rate)\n",
        "print(\"Negative Falschklassifikationsrate:\", neg_false_rate)\n",
        "print(\"Positive Falschklassifikationsrate:\", pos_false_rate)"
      ],
      "execution_count": null,
      "outputs": []
    },
    {
      "cell_type": "markdown",
      "metadata": {
        "id": "Ogf1jYcUq-Qm"
      },
      "source": [
        "## ROC Diagramme/ROC Curve\n",
        "\n",
        "Das ROC Diagramm gibt Auskunft über das Verhältnis von True Positive Rate und False Positive Rate. Wenn sich der Graph des Diagramms diagonal durch das Diagramm zieht, deutet das auf eine zufällige Klassifikation hin. Finden wir eine Kurve, die sich **oberhalb dieser Diagonale** befindet, deutet es auf eine bessere **True Positive Rate** hin. Befindet sich der Graph **unter der Diagonale**, haben wir eine **höhere False Negative Rate**.\n",
        "\n",
        ">![ROC.png](data:image/png;base64,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) <br>\n",
        "Bildquelle: [Linktext](https://jtcvs.org/article/S0022-5223(18)32875-7/fulltext)\n",
        "\n",
        "## Programmierung\n",
        "\n",
        "Um mit der Bibliothek `sklearn.metrics.roc_curve(y, scores)` das Diagramm erstellen zu können, werden zunächst die Predictions benötigt, die Classifier liefert. Uns wird dann die False Positive Rate und die True Positive Rate als Arrays zurückgegeben, worüber wir das ROC Diagramm plotten können.\n",
        "\n",
        ">Eingabeparameter: <br>\n",
        ">`y - Unsere originalen Eingabedaten` <br>\n",
        " `scores - Unsere Predictions`\n",
        "\n",
        ">Return <br>\n",
        ">`False Positive Rate, True Positive Rate, Threshholds`\n"
      ]
    },
    {
      "cell_type": "code",
      "metadata": {
        "id": "LHwacVlEtcog"
      },
      "source": [
        "from sklearn.metrics import roc_curve\n",
        "import matplotlib.pyplot as plt\n",
        "\n",
        "# ROC Curve Parameter erzeugen\n",
        "\n",
        "### Übergeben Sie der Funktion roc_curve die richtigen Parameter ###\n",
        "fpr, tpr, thr = roc_curve()\n",
        "\n",
        "# Plott konfigurieren\n",
        "plt.figure(figsize=(10,6))\n",
        "plt.title(\"ROC Diagramm\", fontsize=20)\n",
        "plt.xlabel(\"False Positive Rate\", fontsize=16)\n",
        "plt.ylabel(\"True Positive Rate\", fontsize=16)\n",
        "\n",
        "plt.plot(fpr, tpr, label=\"Beispiele ROC Kurve\")\n",
        "plt.plot([0, 1], [0, 1], label=\"Zufallsgerade\")\n",
        "\n",
        "plt.legend(bbox_to_anchor=(1.05, 1), loc='upper left', borderaxespad=0.)\n",
        "\n",
        "plt.show()"
      ],
      "execution_count": null,
      "outputs": []
    },
    {
      "cell_type": "markdown",
      "metadata": {
        "id": "t09lE1Dj4CGG"
      },
      "source": [
        "## Precision Recall Curve / PR Diagramm\n",
        "\n",
        "Die Precision Recall Kurve stellt <br> die Precision \n",
        "``` = True Positives / (True Positives + False Positives) ```\n",
        "<br> dem Recall \n",
        "``` = True Positives / (True Positives + False Negatives) ``` <br> \n",
        "gegenüber. Dieses Diagramm ist vor allem sinnvoll, wenn es eine **große Imballance** zwischen den zu betrachtenden Klassen gibt. \n",
        "\n",
        "Eine gute PR Kurve liegt oberhalb der 0.5 Precision. Quasi kann man bei 0.5 eine horizontale Linie ziehen, welche wieder für ein recht zufälliges Ergebnis spricht.\n",
        "\n",
        "![PR.png](data:image/png;base64,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)\n",
        "\n",
        "[Bildquelle](https://machinelearningmastery.com/roc-curves-and-precision-recall-curves-for-classification-in-python/)\n",
        "\n",
        "## Programmierung\n",
        "\n",
        "Die Klasse `precision_recall_curve(y, y_probas)` gibt uns die Precision und Recall als Listen wieder, wobei diese zusammen jeweils einen Punkt im Diagramm bilden. Diese werden dann einfach nur noch geplottet.\n",
        "\n",
        ">Eingabeparameter: <br>\n",
        ">`y - Unsere originalen Eingabedaten` <br>\n",
        " `y_probas - Unsere Predictions`\n",
        "\n",
        ">Return <br>\n",
        ">`Precision, Recall, Threshholds`"
      ]
    },
    {
      "cell_type": "code",
      "metadata": {
        "id": "AfnYP6twpfOo"
      },
      "source": [
        "from sklearn.metrics import precision_recall_curve\n",
        "\n",
        "# PR Kurve erzeugen\n",
        "\n",
        "### Übergeben Sie der Funktion precision_recall_curve die richtigen Parameter ###\n",
        "prec, rec, thr = precision_recall_curve()\n",
        "\n",
        "# Plott konfigurieren\n",
        "plt.figure(figsize=(10,6))\n",
        "plt.title(\"PR Diagramm\", fontsize=20)\n",
        "plt.xlabel(\"False Positive Rate\", fontsize=16)\n",
        "plt.ylabel(\"True Positive Rate\", fontsize=16)\n",
        "\n",
        "plt.plot(rec, prec, label=\"Beispiele PR Kurve\")\n",
        "plt.plot([0, 1], [0.5, 0.5], label=\"Zufallsgerade\")\n",
        "\n",
        "plt.legend(bbox_to_anchor=(1.05, 1), loc='upper left', borderaxespad=0.)\n",
        "\n",
        "plt.show()"
      ],
      "execution_count": null,
      "outputs": []
    }
  ]
}
