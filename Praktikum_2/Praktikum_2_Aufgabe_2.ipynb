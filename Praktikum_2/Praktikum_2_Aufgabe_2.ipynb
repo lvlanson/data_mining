{
  "nbformat": 4,
  "nbformat_minor": 0,
  "metadata": {
    "colab": {
      "name": "Praktikum_2_Aufgabe_2.ipynb",
      "provenance": [],
      "collapsed_sections": [],
      "authorship_tag": "ABX9TyM4Ff/L6vOlEeNIyPok3DML",
      "include_colab_link": true
    },
    "kernelspec": {
      "name": "python3",
      "display_name": "Python 3"
    }
  },
  "cells": [
    {
      "cell_type": "markdown",
      "metadata": {
        "id": "view-in-github",
        "colab_type": "text"
      },
      "source": [
        "<a href=\"https://colab.research.google.com/github/lvlanson/data_mining/blob/main/Praktikum_2_Aufgabe_2.ipynb\" target=\"_parent\"><img src=\"https://colab.research.google.com/assets/colab-badge.svg\" alt=\"Open In Colab\"/></a>"
      ]
    },
    {
      "cell_type": "code",
      "metadata": {
        "id": "QQc7NZYW2vTv"
      },
      "source": [
        "import numpy as np\n",
        "from sklearn.linear_model import LinearRegression\n",
        "import matplotlib.pyplot as plt"
      ],
      "execution_count": null,
      "outputs": []
    },
    {
      "cell_type": "code",
      "metadata": {
        "id": "Xexd12envn98"
      },
      "source": [
        "# Daten initialisieren\n",
        "x_in = [0, 3, 6, 9]\n",
        "y_in = [3, 7, 6, 10]"
      ],
      "execution_count": null,
      "outputs": []
    },
    {
      "cell_type": "code",
      "metadata": {
        "id": "Hi-ilCqgw9lG"
      },
      "source": [
        "# Berechnet arithmetisches Mittel\n",
        "def mean(nums):\n",
        "  return float(sum(nums)/max(len(nums), 1))"
      ],
      "execution_count": null,
      "outputs": []
    },
    {
      "cell_type": "code",
      "metadata": {
        "id": "Lr8jSqwsxMmu"
      },
      "source": [
        "# Tabelle vorbereiten\n",
        "x_mean = np.mean(x_in)\n",
        "y_mean = np.mean(y_in)\n",
        "x_abweichung = [i - x_mean for i in x_in]\n",
        "y_abweichung = [i - y_mean for i in y_in]\n",
        "xy_abweichung = [i * j for i, j in zip(x_abweichung, y_abweichung)]\n",
        "x_abweichung_normiert = [i**2 for i in x_abweichung]\n",
        "y_abweichung_normiert = [i**2 for i in y_abweichung]"
      ],
      "execution_count": null,
      "outputs": []
    },
    {
      "cell_type": "code",
      "metadata": {
        "id": "fUdq3yTIxyxu",
        "outputId": "0aa09677-f112-4d46-fcad-95399472c4ce",
        "colab": {
          "base_uri": "https://localhost:8080/"
        }
      },
      "source": [
        "# Tabelle ausgeben\n",
        "\n",
        "titles = [\"x_i\", \n",
        "          \"y_i\", \n",
        "          \"(x_i - x_mean)\", \n",
        "          \"(y_i - y_mean)\", \n",
        "          \"(x_i - x_mean)\", \n",
        "          \"(x_i - x_mean)**2\", \n",
        "          \"(y_i - y_mean)**2\"]\n",
        "data = [titles] + list(zip(x_in, y_in, x_abweichung, y_abweichung, xy_abweichung, x_abweichung_normiert, y_abweichung_normiert))\n",
        "for i, d in enumerate(data):\n",
        "  line = '|'.join(str(x).ljust(18) for x in d)\n",
        "  print(line)\n",
        "  if i == 0:\n",
        "\n",
        "    print(\"-\"*len(line))"
      ],
      "execution_count": null,
      "outputs": [
        {
          "output_type": "stream",
          "text": [
            "x_i               |y_i               |(x_i - x_mean)    |(y_i - y_mean)    |(x_i - x_mean)    |(x_i - x_mean)**2 |(y_i - y_mean)**2 \n",
            "------------------------------------------------------------------------------------------------------------------------------------\n",
            "0                 |3                 |-4.5              |-3.5              |15.75             |20.25             |12.25             \n",
            "3                 |7                 |-1.5              |0.5               |-0.75             |2.25              |0.25              \n",
            "6                 |6                 |1.5               |-0.5              |-0.75             |2.25              |0.25              \n",
            "9                 |10                |4.5               |3.5               |15.75             |20.25             |12.25             \n"
          ],
          "name": "stdout"
        }
      ]
    },
    {
      "cell_type": "code",
      "metadata": {
        "id": "yYtPI5da3SXY"
      },
      "source": [
        "# Daten Vorverarbeitung\n",
        "X_train = np.asarray(x_in).reshape(-1,1)\n",
        "y_train = np.asarray(y_in)"
      ],
      "execution_count": null,
      "outputs": []
    },
    {
      "cell_type": "code",
      "metadata": {
        "id": "HkNEW43p7vM6",
        "outputId": "0533074b-b298-448a-c4fc-f841a3da56e8",
        "colab": {
          "base_uri": "https://localhost:8080/"
        }
      },
      "source": [
        "# Modell Trainieren\n",
        "model = LinearRegression()\n",
        "model.fit(X_train, y_train)"
      ],
      "execution_count": null,
      "outputs": [
        {
          "output_type": "execute_result",
          "data": {
            "text/plain": [
              "LinearRegression(copy_X=True, fit_intercept=True, n_jobs=None, normalize=False)"
            ]
          },
          "metadata": {
            "tags": []
          },
          "execution_count": 9
        }
      ]
    },
    {
      "cell_type": "code",
      "metadata": {
        "id": "7LPStmWL72Sa",
        "outputId": "d9f2d1c0-909d-4f4e-ab31-09da416ef36e",
        "colab": {
          "base_uri": "https://localhost:8080/"
        }
      },
      "source": [
        "# Vorhersage für Werte 0.8 und 8.32 machen\n",
        "\n",
        "X_test = np.array([0.8, 8.32]).reshape(-1,1)\n",
        "y_pred = model.predict(X_test)\n",
        "\n",
        "for x,y in zip(X_test, y_pred):\n",
        "  print(f\"Vorhersage für {x[0]} ist {y}\")"
      ],
      "execution_count": null,
      "outputs": [
        {
          "output_type": "stream",
          "text": [
            "Vorhersage für 0.8 ist 4.033333333333333\n",
            "Vorhersage für 8.32 ist 9.046666666666667\n"
          ],
          "name": "stdout"
        }
      ]
    },
    {
      "cell_type": "code",
      "metadata": {
        "id": "XKzwMEjU-3yE"
      },
      "source": [
        "from sklearn.metrics import mean_squared_error\n",
        "from math import sqrt"
      ],
      "execution_count": null,
      "outputs": []
    },
    {
      "cell_type": "code",
      "metadata": {
        "id": "imHVGPAe_GuS"
      },
      "source": [
        "# mean squared error und root mean squared error berechnen\n",
        "\n",
        "y_pred = model.predict(X_train)\n",
        "\n",
        "mse  = mean_squared_error(y_train, y_pred)\n",
        "rmse = sqrt(mse)"
      ],
      "execution_count": null,
      "outputs": []
    },
    {
      "cell_type": "code",
      "metadata": {
        "id": "8qLvSo9GBGdZ",
        "outputId": "170c22c8-a6a4-482f-c895-0f6b8ad11910",
        "colab": {
          "base_uri": "https://localhost:8080/",
          "height": 367
        }
      },
      "source": [
        "print(X_train)\n",
        "print(y_pred)\n",
        "\n",
        "plt.scatter(X_train, y_in)\n",
        "plt.plot(X_train,y_pred)"
      ],
      "execution_count": null,
      "outputs": [
        {
          "output_type": "stream",
          "text": [
            "[[0]\n",
            " [3]\n",
            " [6]\n",
            " [9]]\n",
            "[3.5 5.5 7.5 9.5]\n"
          ],
          "name": "stdout"
        },
        {
          "output_type": "execute_result",
          "data": {
            "text/plain": [
              "[<matplotlib.lines.Line2D at 0x7f0e59f1c0f0>]"
            ]
          },
          "metadata": {
            "tags": []
          },
          "execution_count": 14
        },
        {
          "output_type": "display_data",
          "data": {
            "image/png": "[encoded data removed]",
            "text/plain": [
              "<Figure size 432x288 with 1 Axes>"
            ]
          },
          "metadata": {
            "tags": [],
            "needs_background": "light"
          }
        }
      ]
    }
  ]
}