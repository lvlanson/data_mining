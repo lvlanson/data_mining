{
  "nbformat": 4,
  "nbformat_minor": 0,
  "metadata": {
    "colab": {
      "name": "Praktikum_5.ipynb",
      "provenance": [],
      "collapsed_sections": [],
      "authorship_tag": "ABX9TyOaJljLW4GvOPp1SvndOgrU",
      "include_colab_link": true
    },
    "kernelspec": {
      "name": "python3",
      "display_name": "Python 3"
    }
  },
  "cells": [
    {
      "cell_type": "markdown",
      "metadata": {
        "id": "view-in-github",
        "colab_type": "text"
      },
      "source": [
        "<a href=\"https://colab.research.google.com/github/lvlanson/data_mining/blob/main/Praktikum_5.ipynb\" target=\"_parent\"><img src=\"https://colab.research.google.com/assets/colab-badge.svg\" alt=\"Open In Colab\"/></a>"
      ]
    },
    {
      "cell_type": "code",
      "metadata": {
        "id": "10Mpb7hspluJ"
      },
      "source": [
        "# Daten in Python einpflegen\n",
        "\n",
        "col_1 = \"Kelchblattlänge \\\n",
        "kurz \\\n",
        "mittel \\\n",
        "kurz \\\n",
        "lang \\\n",
        "mittel \\\n",
        "mittel \\\n",
        "lang \\\n",
        "lang \\\n",
        "mittel \\\n",
        "kurz \\\n",
        "mittel \\\n",
        "mittel\"\n",
        "\n",
        "col_2 = \"Kelchblattbreite \\\n",
        "mittel \\\n",
        "breit \\\n",
        "mittel \\\n",
        "schmal \\\n",
        "mittel \\\n",
        "mittel \\\n",
        "mittel \\\n",
        "mittel \\\n",
        "mittel \\\n",
        "mittel \\\n",
        "mittel \\\n",
        "mittel\"\n",
        "\n",
        "col_3 = \"Blütenblattlänge \\\n",
        "kurz \\\n",
        "kurz \\\n",
        "kurz \\\n",
        "mittel \\\n",
        "mittel \\\n",
        "mittel \\\n",
        "lang \\\n",
        "lang \\\n",
        "lang \\\n",
        "kurz \\\n",
        "mittel \\\n",
        "lang\"\n",
        "\n",
        "col_4 = \"Blütenblattbreite \\\n",
        "schmal \\\n",
        "schmal \\\n",
        "schmal \\\n",
        "mittel \\\n",
        "mittel \\\n",
        "mittel \\\n",
        "breit \\\n",
        "breit \\\n",
        "breit \\\n",
        "schmal \\\n",
        "mittel \\\n",
        "breit\"\n",
        "\n",
        "col_5 = \"id \\\n",
        "id_5 \\\n",
        "id_19 \\\n",
        "id_23 \\\n",
        "id_77 \\\n",
        "id_96 \\\n",
        "id_97 \\\n",
        "id_103 \\\n",
        "id_110 \\\n",
        "id_125 \\\n",
        "id_50 \\\n",
        "id_66 \\\n",
        "id_111\"\n",
        "\n",
        "col_6 = \"label \\\n",
        "Iris-setosa \\\n",
        "Iris-setosa \\\n",
        "Iris-setosa \\\n",
        "Iris-versicolor \\\n",
        "Iris-versicolor \\\n",
        "Iris-versicolor \\\n",
        "Iris-virginica \\\n",
        "Iris-virginica \\\n",
        "Iris-virginica \\\n",
        "(Iris-setosa) \\\n",
        "(Iris-versicolor) \\\n",
        "(Iris-virginica)\"\n",
        "\n",
        "raw_data = [col_1, col_2, col_3, col_4, col_5, col_6]\n",
        "raw_data = [x.split(\" \") for x in raw_data]"
      ],
      "execution_count": 3,
      "outputs": []
    },
    {
      "cell_type": "code",
      "metadata": {
        "id": "cULgSN9l4B4f"
      },
      "source": [
        "# 1 a) Data Preperation\n",
        "\n",
        "import numpy as np\n",
        "\n",
        "data = np.array(raw_data)\n",
        "data = np.delete(data, 4, 0)\n",
        "data = data.transpose()\n",
        "\n",
        "labels = data[0]\n",
        "train = data[1:-3]\n",
        "test = data[-3:]\n",
        "\n",
        "for i, t in enumerate(test):\n",
        "  test[i][4] = t[4].replace(\"(\", \"\").replace(\")\", \"\")"
      ],
      "execution_count": 4,
      "outputs": []
    },
    {
      "cell_type": "markdown",
      "metadata": {
        "id": "B9B48EWiCuAS"
      },
      "source": [
        "### Funktion `data_count(attr, row, data)`\n",
        ">*`attr`: Ist das Attribut nach dem gesucht wird* <br>\n",
        ">*`row`: Ist die Spalte in der das Attribut zu finden ist* <br>\n",
        ">*`data`: Ist der Datensatz als numpy Array, in dem zu suchen ist*\n",
        "\n",
        "Diese Funktion gibt zurück **wie oft** das Attribut in dem Datensatz zu finden ist.\n",
        "\n",
        "### Funktion `range_count(attrs, rows, attr, row, data, equal=True)`\n",
        "\n",
        ">*`attrs`: Ist eine Liste von Attributen, nach denen gesucht werden soll* <br>\n",
        ">*`rows`: Sind die Spalten als Liste, nach denen die entsprechenden Attribute des selben Index gesucht werden soll* <br>\n",
        ">*`attr`: Ist das Ziellabel, worauf geprüft werden soll ob es bei Gleichheit von `attrs` vorhanden oder nicht vorhanden ist in Abhängigkeit von `equal`* <br>\n",
        ">*`row`: gibt an in welcher Spalte sich unser Zielattribut in data befindet. Ist dieser Parameter None, wird nicht auf das Ziellabel geprüft.*<br>\n",
        ">*`data`: Ist der Datensatz der durchsucht werden soll* <br>\n",
        ">*`equal`*: `equal` gibt an, ob `attr` auf Gleichheit oder Ungleichheit bzgl. der Eingabeattribute geprüft werden soll\n",
        "\n",
        "Diese Funktion durchsucht den Datensatz und prüft wie oft eine Liste von Attributen mit dem Ziellabel gefunden wird. Je nach dem Attribut equal, wird das Ziellabel in Bezug auf die Attribut Liste auf Gleichheit oder Ungleichheit geprüpft. Wird `row` auf `None` gesetzt, wird nur auf die Attribute gesucht."
      ]
    },
    {
      "cell_type": "code",
      "metadata": {
        "id": "M1IFJbNE3Kwt"
      },
      "source": [
        "# 1 a) Helferfunktion zum Zählen der Daten für Einträge\n",
        "\n",
        "def data_count(attr, row, data):\n",
        "  count = 0\n",
        "  for dat in data:\n",
        "    if dat[row] == attr:\n",
        "      count += 1\n",
        "  return count\n",
        "\n",
        "def range_count(attrs, rows, attr, row, data, equal=True):\n",
        "  count = 0\n",
        "  for dat in data:\n",
        "    found = True\n",
        "    \n",
        "    # i ist der Index in der Attribut Spalte\n",
        "    # r ist der Index aus der Liste von Integern, Spalte in dat\n",
        "    for i, r in enumerate(rows):\n",
        "      if dat[r] != attrs[i]:\n",
        "        found = False\n",
        "        break\n",
        "    \n",
        "    # Wenn eine row angegeben, dann wird mit dem Ziellabel verglichen\n",
        "    if row:\n",
        "      if found:\n",
        "        if equal and dat[row] != attr:\n",
        "          found = False\n",
        "          continue\n",
        "        elif not equal and dat[row] == attr:\n",
        "          found = False\n",
        "          continue\n",
        "    if found:\n",
        "      count += 1\n",
        "\n",
        "  return count"
      ],
      "execution_count": 15,
      "outputs": []
    },
    {
      "cell_type": "code",
      "metadata": {
        "id": "R25hPNNb38bX"
      },
      "source": [
        "# Attribute als Tabelle anzeigen\n",
        "\n",
        "for i in range(len(labels)):\n",
        "  print(f\"{i:<20}\", end=\"\")\n",
        "print()\n",
        "for item in labels:\n",
        "  print(f\"{item:<20}\", end=\"\")"
      ],
      "execution_count": null,
      "outputs": []
    },
    {
      "cell_type": "markdown",
      "metadata": {
        "id": "2j_kgWKA9EZ5"
      },
      "source": [
        ">0 | 1 | 2 | 3 | 4 \n",
        ">--- | --- | --- | --- | ---                    \n",
        ">Kelchblattlänge | Kelchblattbreite | Blütenblattlänge | Blütenblattbreite | Label  "
      ]
    },
    {
      "cell_type": "code",
      "metadata": {
        "colab": {
          "base_uri": "https://localhost:8080/"
        },
        "id": "EFj7E9BXxd62",
        "outputId": "0f834a9c-5e4f-496e-e589-1223018f184c"
      },
      "source": [
        "##### p_setosa\n",
        "\n",
        "p_setosa_label = data_count(\"Iris-setosa\", 4, train) / len(train)\n",
        "p_setosa_attr  = range_count(test[0][:3], range(3), test[0][4], 4, train) / len(train)\n",
        "p_setosa_n_attr = range_count(test[0][:3], range(3), test[0][4], 4, train, False) / len(train)\n",
        "p_setosa_only_attr = range_count(test[0][:3], range(3), None, None, train)\n",
        "\n",
        "# Wahrscheinlichkeit Setosa und Attribute\n",
        "P_s_a = p_setosa_attr/p_setosa_label\n",
        "P_s_na = p_setosa_n_attr/p_setosa_label\n",
        "\n",
        "P_is_Setosa = P_s_a*p_setosa_label/ p_setosa_only_attr\n",
        "\n",
        "print(f\"Setosa: {P_is_Setosa}\")\n",
        "\n",
        "##### p_versi\n",
        "p_versi_label = data_count(\"Iris-versicolor\", 4, train) / len(train)\n",
        "p_versi_attr = range_count(test[1][:3], range(3), test[1][4], 4, train) / len(train)\n",
        "p_versi_n_attr = range_count(test[1][:3], range(3), test[1][4], 4, train, False) / len(train)\n",
        "p_versi_only_attr = range_count(test[1][:3], range(3), None, None, train)\n",
        "\n",
        "# Wahrscheinlichkeit Versicolor und Attribute\n",
        "P_ve_a = p_versi_attr/p_versi_label\n",
        "P_ve_na = p_versi_n_attr/p_versi_label\n",
        "\n",
        "P_is_Versicolor = P_ve_a*p_versi_label/ p_versi_only_attr\n",
        "\n",
        "print(f\"Versicolor: {P_is_Versicolor}\")\n",
        "\n",
        "##### p_virg \n",
        "p_virg_label = data_count(\"Iris-virginica\", 4, train) / len(train)\n",
        "p_virg_attr = range_count(test[2][:3], range(3), test[2][4], 4, train) / len(train)\n",
        "p_virg_n_attr = range_count(test[2][:3], range(3), test[2][4], 4, train, False) / len(train)\n",
        "p_virg_only_attr = range_count(test[2][:3], range(3), None, None, train)\n",
        "\n",
        "# Wahrscheinlichkeit Virginica und Attribute\n",
        "P_vi_a = p_virg_attr/p_virg_label\n",
        "P_vi_na = p_virg_n_attr/p_virg_label\n",
        "\n",
        "P_is_Virginica = P_vi_a*p_virg_label/ p_virg_only_attr\n",
        "\n",
        "print(f\"Virginica: {P_is_Virginica}\")"
      ],
      "execution_count": 17,
      "outputs": [
        {
          "output_type": "stream",
          "text": [
            "Setosa: 0.1111111111111111\n",
            "Versicolor: 0.1111111111111111\n",
            "Virginica: 0.1111111111111111\n"
          ],
          "name": "stdout"
        }
      ]
    },
    {
      "cell_type": "markdown",
      "metadata": {
        "id": "ju1HaMbZ-7q2"
      },
      "source": [
        "## Vorbereitung\n",
        "Die bisherigen Dataframes werden zusammengeführt. <br>\n",
        "Wir teilen erst den Datensatz nach *Attributen* `X` und nach *Labeln*  `Y`"
      ]
    },
    {
      "cell_type": "code",
      "metadata": {
        "colab": {
          "base_uri": "https://localhost:8080/",
          "height": 402
        },
        "id": "4olP3WX7PALH",
        "outputId": "d0967b5d-32fe-4340-97e9-bc9648749824"
      },
      "source": [
        "import pandas as pd\n",
        "\n",
        "df_prepare = np.vstack((train, test))\n",
        "\n",
        "df = pd.DataFrame(df_prepare, columns=labels)\n",
        "\n",
        "df"
      ],
      "execution_count": 8,
      "outputs": [
        {
          "output_type": "execute_result",
          "data": {
            "text/html": [
              "<div>\n",
              "<style scoped>\n",
              "    .dataframe tbody tr th:only-of-type {\n",
              "        vertical-align: middle;\n",
              "    }\n",
              "\n",
              "    .dataframe tbody tr th {\n",
              "        vertical-align: top;\n",
              "    }\n",
              "\n",
              "    .dataframe thead th {\n",
              "        text-align: right;\n",
              "    }\n",
              "</style>\n",
              "<table border=\"1\" class=\"dataframe\">\n",
              "  <thead>\n",
              "    <tr style=\"text-align: right;\">\n",
              "      <th></th>\n",
              "      <th>Kelchblattlänge</th>\n",
              "      <th>Kelchblattbreite</th>\n",
              "      <th>Blütenblattlänge</th>\n",
              "      <th>Blütenblattbreite</th>\n",
              "      <th>label</th>\n",
              "    </tr>\n",
              "  </thead>\n",
              "  <tbody>\n",
              "    <tr>\n",
              "      <th>0</th>\n",
              "      <td>kurz</td>\n",
              "      <td>mittel</td>\n",
              "      <td>kurz</td>\n",
              "      <td>schmal</td>\n",
              "      <td>Iris-setosa</td>\n",
              "    </tr>\n",
              "    <tr>\n",
              "      <th>1</th>\n",
              "      <td>mittel</td>\n",
              "      <td>breit</td>\n",
              "      <td>kurz</td>\n",
              "      <td>schmal</td>\n",
              "      <td>Iris-setosa</td>\n",
              "    </tr>\n",
              "    <tr>\n",
              "      <th>2</th>\n",
              "      <td>kurz</td>\n",
              "      <td>mittel</td>\n",
              "      <td>kurz</td>\n",
              "      <td>schmal</td>\n",
              "      <td>Iris-setosa</td>\n",
              "    </tr>\n",
              "    <tr>\n",
              "      <th>3</th>\n",
              "      <td>lang</td>\n",
              "      <td>schmal</td>\n",
              "      <td>mittel</td>\n",
              "      <td>mittel</td>\n",
              "      <td>Iris-versicolor</td>\n",
              "    </tr>\n",
              "    <tr>\n",
              "      <th>4</th>\n",
              "      <td>mittel</td>\n",
              "      <td>mittel</td>\n",
              "      <td>mittel</td>\n",
              "      <td>mittel</td>\n",
              "      <td>Iris-versicolor</td>\n",
              "    </tr>\n",
              "    <tr>\n",
              "      <th>5</th>\n",
              "      <td>mittel</td>\n",
              "      <td>mittel</td>\n",
              "      <td>mittel</td>\n",
              "      <td>mittel</td>\n",
              "      <td>Iris-versicolor</td>\n",
              "    </tr>\n",
              "    <tr>\n",
              "      <th>6</th>\n",
              "      <td>lang</td>\n",
              "      <td>mittel</td>\n",
              "      <td>lang</td>\n",
              "      <td>breit</td>\n",
              "      <td>Iris-virginica</td>\n",
              "    </tr>\n",
              "    <tr>\n",
              "      <th>7</th>\n",
              "      <td>lang</td>\n",
              "      <td>mittel</td>\n",
              "      <td>lang</td>\n",
              "      <td>breit</td>\n",
              "      <td>Iris-virginica</td>\n",
              "    </tr>\n",
              "    <tr>\n",
              "      <th>8</th>\n",
              "      <td>mittel</td>\n",
              "      <td>mittel</td>\n",
              "      <td>lang</td>\n",
              "      <td>breit</td>\n",
              "      <td>Iris-virginica</td>\n",
              "    </tr>\n",
              "    <tr>\n",
              "      <th>9</th>\n",
              "      <td>kurz</td>\n",
              "      <td>mittel</td>\n",
              "      <td>kurz</td>\n",
              "      <td>schmal</td>\n",
              "      <td>Iris-setosa</td>\n",
              "    </tr>\n",
              "    <tr>\n",
              "      <th>10</th>\n",
              "      <td>mittel</td>\n",
              "      <td>mittel</td>\n",
              "      <td>mittel</td>\n",
              "      <td>mittel</td>\n",
              "      <td>Iris-versicolor</td>\n",
              "    </tr>\n",
              "    <tr>\n",
              "      <th>11</th>\n",
              "      <td>mittel</td>\n",
              "      <td>mittel</td>\n",
              "      <td>lang</td>\n",
              "      <td>breit</td>\n",
              "      <td>Iris-virginica</td>\n",
              "    </tr>\n",
              "  </tbody>\n",
              "</table>\n",
              "</div>"
            ],
            "text/plain": [
              "   Kelchblattlänge Kelchblattbreite  ... Blütenblattbreite            label\n",
              "0             kurz           mittel  ...            schmal      Iris-setosa\n",
              "1           mittel            breit  ...            schmal      Iris-setosa\n",
              "2             kurz           mittel  ...            schmal      Iris-setosa\n",
              "3             lang           schmal  ...            mittel  Iris-versicolor\n",
              "4           mittel           mittel  ...            mittel  Iris-versicolor\n",
              "5           mittel           mittel  ...            mittel  Iris-versicolor\n",
              "6             lang           mittel  ...             breit   Iris-virginica\n",
              "7             lang           mittel  ...             breit   Iris-virginica\n",
              "8           mittel           mittel  ...             breit   Iris-virginica\n",
              "9             kurz           mittel  ...            schmal      Iris-setosa\n",
              "10          mittel           mittel  ...            mittel  Iris-versicolor\n",
              "11          mittel           mittel  ...             breit   Iris-virginica\n",
              "\n",
              "[12 rows x 5 columns]"
            ]
          },
          "metadata": {
            "tags": []
          },
          "execution_count": 8
        }
      ]
    },
    {
      "cell_type": "markdown",
      "metadata": {
        "id": "mRskOhOW_yY7"
      },
      "source": [
        "## Vorbereitung\n",
        "\n",
        "Mit df.loc wird das Dataframe nach `[Reihen, Spalten]` gefiltert. Mit `[von:bis:step]` kann Reihe und Spalte konfiguriert werden. Bei `.loc` werden die Namen der Spalten bzw. Zeilen (wenn als Zeichenkette vorhanden) angegeben. Das Attribut `.value` gibt uns die konkreten Werte zurück.\n",
        "\n",
        "## Encoding von Werten mit Zeichenketten\n",
        "\n",
        "Danach wird mit dem `LabelEncoder` jedes Label in einen Wert überführt. Der Encoder speichert die Abbildung vom String in den numerischen Wert, sodass das am Ende die Rückkonvertierung wieder möglich ist. Mit `LabelEncoder.fit_transform(x)` können die Werte kodiert werden. Dazu muss das übergebene Label eine konkrete Form haben. Derzeit hat `x` folgende Form:\n",
        "\n",
        "```\n",
        "[['kurz' 'mittel' 'kurz' 'schmal'],\n",
        " ['mittel' 'breit' 'kurz' 'schmal'],\n",
        " ['kurz' 'mittel' 'kurz' 'schmal'],\n",
        " [.....],...]`\n",
        "```\n",
        "\n",
        " Es muss in ein ein-dimensionales Array überführt werden, welches wie folgt aussieht:\n",
        "\n",
        "```\n",
        " ['kurz',\n",
        "  'mittel', \n",
        "  'kurz',\n",
        "  'schmal',\n",
        "  ...]\n",
        "```\n",
        "\n",
        "Mit dem Attribut `.shape` eines Numpy Arrays können wir uns die gegenwärtige Shape des Arrays ausgeben lassen und speichern. Mit `.reshape(-1)` können wir das komplette Array in ein ein-dimensionales Array umformen, und mit `.reshape(gespeicherte_shape)` wieder zurückformen. Wichtig dabei ist, dass für `.reshape()` die neue Shape eindeutig aufgeht. Für ein Array mit 12 Elementen geht eine Shape mit `(3,4)`, aber nicht mit `(3,5)`. <br> *(3*\\**4 = 12, 3*\\**5=15)*\n",
        "\n",
        "Für `y` kann man einfach mit `.reshape(-1, 1)` wieder zurücktransformieren. `-1` sagt *nimm alle Elemente* und `1` sagt *und packe diese in ein-dimensionale Arrays* "
      ]
    },
    {
      "cell_type": "code",
      "metadata": {
        "id": "CSx6A4GtSBUM"
      },
      "source": [
        "from sklearn.preprocessing import LabelEncoder\n",
        "\n",
        "x = df.loc[:, :\"Blütenblattbreite\"].values\n",
        "y = df.loc[:, \"label\":].values\n",
        "\n",
        "shape = x.shape\n",
        "x_encoder = LabelEncoder()\n",
        "x = x_encoder.fit_transform(x.reshape(-1))\n",
        "\n",
        "x = x.reshape(shape)\n",
        "\n",
        "y_encoder = LabelEncoder()\n",
        "y = y_encoder.fit_transform(y.reshape(-1))\n",
        "y = y.reshape(-1, 1)"
      ],
      "execution_count": 30,
      "outputs": []
    },
    {
      "cell_type": "code",
      "metadata": {
        "id": "H5J9gcCuTTto"
      },
      "source": [
        "# In Trainings- und Testset splitten\n",
        "from sklearn.model_selection import train_test_split\n",
        "\n",
        "x_train = x[:8]\n",
        "x_test = x[9:] \n",
        "\n",
        "y_train = y[:8]\n",
        "y_test = y[9:]"
      ],
      "execution_count": 10,
      "outputs": []
    },
    {
      "cell_type": "markdown",
      "metadata": {
        "id": "iPzk_Q0qeUjd"
      },
      "source": [
        "# Methodik\n",
        "## ![methode.png](data:image/png;base64,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) <br>\n",
        "Bildquelle: https://www.datacamp.com/community/tutorials/naive-bayes-scikit-learn\n",
        "\n",
        "## Formel\n",
        "\\begin{equation}\n",
        "P(y \\mid x_1, \\dots, x_n) = \\frac{P(y) P(x_1, \\dots, x_n \\mid y)}\n",
        "                                 {P(x_1, \\dots, x_n)}\n",
        "\\end{equation}\n",
        "\n",
        "\n",
        "## Bayes'sche Wahrscheinlichkeit\n",
        "\n",
        "Mit der Klasse GaussianNB kann der mit der Bayesschen Wahrscheinlichkeit ein Model trainiert werden. Wieder wird mit der Funktion `.fit(x_train, y_train)` das Model trainiert und mit `.fit(x_test)` wird aufgrund des Trainings eine Vorherhsage gemacht.\n",
        "\n",
        "Die Klasse GaussianNB arbeitet unter der Haube mit derselben Formel. Allerdings über einige Umformungsschritte setzt dieser Algorithmus folgende Formel um:\n",
        "\n",
        "\\begin{equation}\n",
        "P(x_i \\mid y) = \\frac{1}{\\sqrt{2\\pi\\sigma^2_y}} \\exp\\left(-\\frac{(x_i - \\mu_y)^2}{2\\sigma^2_y}\\right)\n",
        "\\end{equation}\n",
        "\n",
        "Quelle: https://scikit-learn.org/stable/modules/naive_bayes.html\n",
        "\n",
        "## Encoded zu Zeichenketten\n",
        "\n",
        "Mit dem Encoder wurden die Zeichenketten in numerische Werte überführt. Dieses Objekt ist in der Lage mit der Funktion `.inverse_transform(y)` die Werte wieder in die Zeichenketten zurück zu tranformieren. So ist es dann möglich die Prediction als Zeichenkette sich anzeigen zu lassen."
      ]
    },
    {
      "cell_type": "code",
      "metadata": {
        "colab": {
          "base_uri": "https://localhost:8080/"
        },
        "id": "n-k1SH9qTvff",
        "outputId": "a604506b-3337-42ae-b961-ded7488c692d"
      },
      "source": [
        "from sklearn.naive_bayes import GaussianNB\n",
        "clf = GaussianNB()\n",
        "clf.fit(x_train, y_train)\n",
        "GaussianNB(priors=None)\n",
        "y_pred = clf.predict(x_test)\n",
        "\n",
        "list(y_encoder.inverse_transform(y_pred))"
      ],
      "execution_count": 37,
      "outputs": [
        {
          "output_type": "execute_result",
          "data": {
            "text/plain": [
              "['Iris-setosa', 'Iris-versicolor', 'Iris-virginica']"
            ]
          },
          "metadata": {
            "tags": []
          },
          "execution_count": 37
        }
      ]
    },
    {
      "cell_type": "markdown",
      "metadata": {
        "id": "-UhHmzEXb203"
      },
      "source": [
        "# Metrics\n",
        "\n",
        "## Accuracy Score\n",
        "\n",
        "Der Accuracy Score beschreibt wie genau eine Klassifizierung durchgeführt wurde. Er wird auf Klassifizierungsdatensätzen angewandt.\n",
        "\n",
        "## Precission Score\n",
        "\n",
        "Der Precision Score wird bei binären Labels verwendet. Das bedeutet, ein Label kann entweder zutreffend oder nicht zutreffen (positive/negative) sein. Hier wird die Genauigkeit angegeben ein negatives Ergebnis nicht positiv zu kennzeichnen. Sprich die Rate wie viele negative Ergebnisse richtig erkannt werden\n",
        "\n",
        "## Recall Score\n",
        "\n",
        "Ist equivalent zum _Precission Score_ mit dem Unterschied, dass hier die Rate der richtigen positiven Ergebnisse dargestellt wird."
      ]
    },
    {
      "cell_type": "code",
      "metadata": {
        "colab": {
          "base_uri": "https://localhost:8080/"
        },
        "id": "0VTKTsSBT4Jq",
        "outputId": "20022060-0715-43f0-e09f-2b1c8a98f5ee"
      },
      "source": [
        "from sklearn.metrics import accuracy_score\n",
        "print(f\"Accuracy: {accuracy_score(y_true=y_test, y_pred=y_pred)}\")"
      ],
      "execution_count": 42,
      "outputs": [
        {
          "output_type": "stream",
          "text": [
            "Accuracy: 1.0\n"
          ],
          "name": "stdout"
        }
      ]
    },
    {
      "cell_type": "markdown",
      "metadata": {
        "id": "dXTaR9xndBii"
      },
      "source": [
        "# Iris Flower Datensatz\n",
        "\n",
        "`sklearn` verfügt über bereits mitgelieferte Datensätze die über `sklearn.datasets` importiert werden können. Der Iris Flower Datensatz beinhaltet 50 Samples für jede der drei beinhalteten Blumen (Iris setosa, Iris virginica, Iris versicolor).\n",
        "\n",
        "Hier ist ein Beispiel aufgeführt wie man mit dem bayes'schen Verfahren ein Model erzeugen und darüber eine Vorhersage durchführen kann.\n",
        "\n",
        "Quelle: https://scikit-learn.org/stable/modules/generated/sklearn.naive_bayes.GaussianNB.html"
      ]
    },
    {
      "cell_type": "code",
      "metadata": {
        "colab": {
          "base_uri": "https://localhost:8080/"
        },
        "id": "KZiObpsFbh60",
        "outputId": "8da5a001-509f-4f80-beef-94762d40008e"
      },
      "source": [
        "from sklearn.datasets import load_iris\n",
        "from sklearn.model_selection import train_test_split\n",
        "from sklearn.naive_bayes import GaussianNB\n",
        "X, y = load_iris(return_X_y=True)\n",
        "X_train, X_test, y_train, y_test = train_test_split(X, y, test_size=0.5, random_state=0)\n",
        "gnb = GaussianNB()\n",
        "y_pred = gnb.fit(X_train, y_train).predict(X_test)\n",
        "print(\"Number of mislabeled points out of a total %d points : %d\"\n",
        "      % (X_test.shape[0], (y_test != y_pred).sum()))"
      ],
      "execution_count": 43,
      "outputs": [
        {
          "output_type": "stream",
          "text": [
            "Number of mislabeled points out of a total 75 points : 4\n"
          ],
          "name": "stdout"
        }
      ]
    }
  ]
}